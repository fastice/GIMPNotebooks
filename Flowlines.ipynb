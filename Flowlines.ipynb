{
 "cells": [
  {
   "cell_type": "markdown",
   "id": "9b447e92-10f5-44e7-9dc5-f0b7a2617cf2",
   "metadata": {},
   "source": [
    "# Plot Flowines Using Remote Greenland Ice Mapping Project Data\n",
    "---"
   ]
  },
  {
   "cell_type": "markdown",
   "id": "acf30d36-2d27-4a36-b802-2b7421bbc3c0",
   "metadata": {},
   "source": [
    "This notebook demonstrates how Greenland Ice Mapping Project can be remotely accessed to create plots along flowlines from [Felikson et al., 2020](https://agupubs.onlinelibrary.wiley.com/doi/10.1029/2020GL090112), which are archived on [Zenodo](https://agupubs.onlinelibrary.wiley.com/doi/10.1029/2020GL090112). The copies of the shapefiles included in this repository were downloaded in late January 2022. "
   ]
  },
  {
   "cell_type": "code",
   "execution_count": null,
   "id": "50b14ee9-08ee-4b78-934d-22c9e82a754d",
   "metadata": {},
   "outputs": [],
   "source": [
    "from IPython.lib.deepreload import reload\n",
    "%load_ext autoreload\n",
    "%autoreload 2\n",
    "import nisardev as nisar\n",
    "import os\n",
    "import matplotlib.colors as mcolors\n",
    "import gimpfunc as gimp\n",
    "import matplotlib.pyplot as plt\n",
    "import geopandas as gpd\n",
    "from datetime import datetime\n",
    "import numpy as np\n",
    "import xarray as xr\n",
    "import importlib\n",
    "import glob\n",
    "import panel\n",
    "panel.extension()"
   ]
  },
  {
   "cell_type": "markdown",
   "id": "b4037e60-d958-4f44-9d2b-f1c29a69bc56",
   "metadata": {},
   "source": [
    "## Read Shapefiles"
   ]
  },
  {
   "cell_type": "markdown",
   "id": "26dceb93-3ebe-4616-8453-33491fdd4697",
   "metadata": {},
   "source": [
    "In the examples presented here we will use glaciers 1 through 6 in the Felikson data base, which should have downloaded as part of the notebook repository. Glacier 6 has two variants, so some extra work is needed to extract. Each glacier's flowlines are used to great `gimp.Flowlines` instances, which are saved in a dictionary, `myFlowlines` with glacier id: '0001' through 'b006'. To limit the plots to the downstream regions, the flowlines are all truncated to a length of 50km. Within each myFlowines entry (a `gimp.Flowlines` instance), the individual flowlines are maintained as a dictionary `myFlowlines['glacierId'].flowlines`."
   ]
  },
  {
   "cell_type": "code",
   "execution_count": null,
   "id": "f1c9e35a-a3db-47b8-a755-f3cc31b6fae2",
   "metadata": {},
   "outputs": [],
   "source": [
    "myShapeFiles = []\n",
    "for i in range(1, 7):\n",
    "    myShapeFiles += glob.glob(f'./shpfiles/glacier?00{i}.shp')  # Search for glaciers with ?00n where n ranges from 1 to 6\n",
    "myFlowlines = {x[-8:-4]: gimp.Flowlines(shapefile=x, name=x[-8:-4], length=50e3) for x in myShapeFiles} "
   ]
  },
  {
   "cell_type": "markdown",
   "id": "a62b7d82-2721-4b32-9047-b59a7cfc7631",
   "metadata": {},
   "source": [
    "The area of interest can be defined as the union of the bounds for all of the flowlines computed as shown below along with the unique set of flowline IDs across all glaciers."
   ]
  },
  {
   "cell_type": "code",
   "execution_count": null,
   "id": "bda28956-3f58-4ce3-b136-9da430667a22",
   "metadata": {},
   "outputs": [],
   "source": [
    "myBounds = {'minx': 1e9, 'miny': 1e9, 'maxx': -1e9, 'maxy': -1e9}  # Initial bounds to force reset\n",
    "flowlineIDs = []  # \n",
    "for myKey in myFlowlines:\n",
    "    myBounds = myFlowlines[myKey].mergeBounds(myBounds, myFlowlines[myKey].bounds)\n",
    "    flowlineIDs.append(myFlowlines[myKey].flowlineIDs())\n",
    "flowlineIDs = np.unique(flowlineIDs)\n",
    "print(myBounds)\n",
    "print(flowlineIDs)"
   ]
  },
  {
   "cell_type": "markdown",
   "id": "9b20403c-ecaa-4074-a4a6-220569ab9ace",
   "metadata": {},
   "source": [
    "## Search Catalog for Velocity Data"
   ]
  },
  {
   "cell_type": "markdown",
   "id": "865e44fb-7e83-4bcd-9143-e55ecdcc4f83",
   "metadata": {},
   "source": [
    "For remote access to data at NSIDC, run these cells to login with your NASA EarthData Login (see  [NSIDCLoginNotebook](https://github.com/fastice/GIMPNotebooks/blob/master/NSIDCLoginNotebook.ipynb) for further details). These cells can skipped if all data are being accessed locally. First define where the cookie files need for login are saved."
   ]
  },
  {
   "cell_type": "code",
   "execution_count": null,
   "id": "e3f3a874-0581-446d-a826-9ba2881dd47a",
   "metadata": {},
   "outputs": [],
   "source": [
    "env = dict(GDAL_HTTP_COOKIEFILE=os.path.expanduser('~/.gimp_download_cookiejar.txt'),\n",
    "            GDAL_HTTP_COOKIEJAR=os.path.expanduser('~/.gimp_download_cookiejar.txt'))\n",
    "os.environ.update(env)"
   ]
  },
  {
   "cell_type": "markdown",
   "id": "f90e739a-f94a-4096-9f0b-53d3bd94b31b",
   "metadata": {},
   "source": [
    "Now enter credentials. If previous valid cookie exists, login credentials can be skipped."
   ]
  },
  {
   "cell_type": "code",
   "execution_count": null,
   "id": "40fab845-9dac-4110-b7c3-7594cd6dc13c",
   "metadata": {},
   "outputs": [],
   "source": [
    "myLogin = gimp.NASALogin()\n",
    "myLogin.view()"
   ]
  },
  {
   "cell_type": "markdown",
   "id": "1779dc6a-739f-49c1-bf43-182df4013370",
   "metadata": {},
   "source": [
    "The next cell searches the NSIDC database for the desired full Sentinel-1 based GIMP velocity mosaics. For purposes of demonstration, it comes up with a search result for annual mosaics. Use the controls to search for data ranging from 6-day to annual resolution. Note download times scale with temporal resolution. "
   ]
  },
  {
   "cell_type": "code",
   "execution_count": null,
   "id": "0c86f58f-5664-4cef-87e6-c379537fd22f",
   "metadata": {},
   "outputs": [],
   "source": [
    "myUrls = gimp.cmrUrls(mode='nisar')  # nisar mode excludes image and tsx products and allows only one product type at a time\n",
    "myUrls.initialSearch()"
   ]
  },
  {
   "cell_type": "markdown",
   "id": "74efb8ac-79ec-4f39-b1b0-be49bba4ce20",
   "metadata": {},
   "source": [
    "## Load the Velocity Data"
   ]
  },
  {
   "cell_type": "markdown",
   "id": "711ea8dc-8923-479e-b861-d5baf61a9320",
   "metadata": {},
   "source": [
    "While the velocity data are stored as multiple files at NSIDC, they can all be combined into a single `nisarVelSeries` instance. This instance will set all the data structures up, but will not initially download the data."
   ]
  },
  {
   "cell_type": "code",
   "execution_count": null,
   "id": "9e7e9227-068c-495f-a3a5-f603342f93bd",
   "metadata": {},
   "outputs": [],
   "source": [
    "myVelSeries = nisar.nisarVelSeries() # Create Series\n",
    "urlNames = [x.replace('vv','*').replace('.tif','') for x in myUrls.getCogs()] # Add wild card and remove trailing tiff\n",
    "myVelSeries.readSeriesFromTiff(urlNames, url=True, readSpeed=False)  \n",
    "myVelSeries.xr  # Add semicolon after to suppress output"
   ]
  },
  {
   "cell_type": "markdown",
   "id": "54e1f0ed-577d-4f7a-b0d0-d6a1f718c75b",
   "metadata": {},
   "source": [
    "For the annual data set, this step produces a ~7GB data sets, which expands to 370GB for the full data set. To avoid downloading unnessary data, the data can be subsetted using the bounding box from the flowlines. "
   ]
  },
  {
   "cell_type": "code",
   "execution_count": null,
   "id": "ba7f9a85-0b9c-41f6-bc0c-f257c140ea56",
   "metadata": {},
   "outputs": [],
   "source": [
    "myVelSeries.subSetVel(myBounds) # Apply subset\n",
    "myVelSeries.subset # Add semicolon after to suppress output"
   ]
  },
  {
   "cell_type": "markdown",
   "id": "13890313-3574-4214-9709-bc0b2e526c12",
   "metadata": {},
   "source": [
    "The volume of the data set is now a far more manageable ~5MB, which is still located in the archive.  Operations can continue without downloading, but if lots of operations are going to occur, it is best to download the data upfront. "
   ]
  },
  {
   "cell_type": "code",
   "execution_count": null,
   "id": "ee0e251b-04bf-4cb8-a0cc-7c04b423abb7",
   "metadata": {},
   "outputs": [],
   "source": [
    "myVelSeries.loadRemote() # Load the data to memory"
   ]
  },
  {
   "cell_type": "markdown",
   "id": "2931ce77-eb13-4349-975e-22520d353c54",
   "metadata": {},
   "source": [
    "## Display Flowlines and Velocity"
   ]
  },
  {
   "cell_type": "markdown",
   "id": "9f950c17-f7ef-4b52-aa0d-5c76999bf97c",
   "metadata": {},
   "source": [
    "The flowlines over one of the velocity layers can be displayed as with the following block of code. In addition to plotting the flowline, a point 10 km along each flowline is plotted and saved for subsequent plots below."
   ]
  },
  {
   "cell_type": "code",
   "execution_count": null,
   "id": "95ba55a7-396f-41c7-87b6-45eacb969541",
   "metadata": {},
   "outputs": [],
   "source": [
    "# set up figure and axis\n",
    "fig, ax = plt.subplots(1, 1, figsize=(6,12))\n",
    "glacierPoints = {}\n",
    "# generate a color dict that spans all flowline ids, using method from a flowline instance\n",
    "flowlineColors = list(myFlowlines.values())[0].genColorDict(flowlineIDs=flowlineIDs)\n",
    "# Messy plot stuff to get glacier labels in right place\n",
    "xShift = {x: 1 for x in myFlowlines} # Dict index by glacier id\n",
    "xShift['0001'] = -2 # custom for jakobshavn to keep on plot\n",
    "# Display the velocity map for 2020 (note picks map nearest the date given). \n",
    "# Saturate color table at 2000 to maintain slower detail (vmax=2000)\n",
    "myVelSeries.displayVelForDate('2020-01-01', ax=ax, labelFontSize=10, plotFontSize=9, titleFontSize=14, \n",
    "                              vmin=0, vmax=2000, units='km') \n",
    "# Look over each glacier and plot the flowlines\n",
    "for glacierId in myFlowlines:\n",
    "    # Plot the flowline Match units to the map\n",
    "    myFlowlines[glacierId].plotFlowlineLocations(ax=ax, units='km', colorDict=flowlineColors)\n",
    "    # \n",
    "    myFlowlines[glacierId].plotGlacierName(ax=ax, units='km', xShift=xShift[glacierId], \n",
    "                                           color='w', fontsize=12,fontweight='bold', first=False)\n",
    "    # Generates points 10km\n",
    "    points10km = myFlowlines[glacierId].extractPoints(10, None, units='km')\n",
    "    glacierPoints[glacierId] = points10km\n",
    "    for key in points10km:\n",
    "        ax.plot(*points10km[key], 'r.')\n",
    "# Create a dict of unique labels for legend\n",
    "h, l = ax.get_legend_handles_labels()\n",
    "by_label = dict(zip(l, h))\n",
    "# Add legend\n",
    "ax.legend(by_label.values(), by_label.keys(), title='Flowline ID', ncol=2)"
   ]
  },
  {
   "cell_type": "markdown",
   "id": "d57de87b-6c11-4526-bd8b-a393c74e2474",
   "metadata": {},
   "source": [
    "## Plot Central Flowlines at Different Times"
   ]
  },
  {
   "cell_type": "markdown",
   "id": "d5565859-60ef-4efb-a56c-b15816bf691b",
   "metadata": {},
   "source": [
    "This example will demonstrate plotting the nominally central flowline ('06') for each of the six years for which there are currently data. This example works for annual data. Minor modifications are needed for the legend if more frequent data are selected above. "
   ]
  },
  {
   "cell_type": "code",
   "execution_count": null,
   "id": "f7f32f48-6c4c-41ee-8b72-e8e3dcb8c5c7",
   "metadata": {},
   "outputs": [],
   "source": [
    "flowlineId ='06'  # Flowline id to plot\n",
    "fig, axes = plt.subplots(2, 4, figsize=(18, 9))  # Setup plot\n",
    "# Loop over glaciers\n",
    "for glacierId, ax in zip(myFlowlines, axes.flatten()):\n",
    "    # return interpolated values as vx(time index, distance index)\n",
    "    vx, vy, vv = myVelSeries.interp(*myFlowlines[glacierId].xykm(), units='km')\n",
    "    # loop over each profile by time\n",
    "    for speed, myDate in zip(vv, myVelSeries.time):\n",
    "        ax.plot(myFlowlines[glacierId].distancekm(), speed, label=myDate.year)\n",
    "    # pretty up plot\n",
    "    ax.legend(ncol=2, loc='upper right')\n",
    "    ax.set_xlabel('Distance (km)', fontsize=13)\n",
    "    ax.set_ylabel('Speed (m/yr)', fontsize=13)\n",
    "    ax.set_title(f'Glacier {glacierId}')\n",
    "axes[-1, -1].axis('off'); # kill axis with no plot\n",
    "plt.tight_layout()"
   ]
  },
  {
   "cell_type": "markdown",
   "id": "db22fb90-f020-485f-bf20-a0176127a419",
   "metadata": {},
   "source": [
    "## Plot Points Through Time"
   ]
  },
  {
   "cell_type": "code",
   "execution_count": null,
   "id": "9a18daa5-c26f-4893-923c-3d4e727cce60",
   "metadata": {},
   "outputs": [],
   "source": [
    "This example d"
   ]
  },
  {
   "cell_type": "code",
   "execution_count": null,
   "id": "bfb57464-c305-4e79-816b-0102aeae02a5",
   "metadata": {},
   "outputs": [],
   "source": [
    "fig, axes = plt.subplots(2, 4, figsize=(18, 9))\n",
    "# Loop over glaciers\n",
    "for glacierId, ax in zip(glacierPoints, axes.flatten()):\n",
    "    # Loop over flowlines\n",
    "    for flowlineId in glacierPoints[glacierId]:\n",
    "        # interpolate to get results vx(time index) for each point\n",
    "        vx, vy, v = myVelSeries.interp(*glacierPoints[glacierId][flowlineId], units='km')\n",
    "        ax.plot(myVelSeries.time, v, marker='o',  linestyle='-', color=flowlineColors[flowlineId],label=f'{flowlineId}')\n",
    "    # pretty up plot\n",
    "    ax.legend(ncol=3, loc='upper right', title='Flowline ID')\n",
    "    ax.set_xlabel('year', fontsize=13)\n",
    "    ax.set_ylabel('Speed (m/yr)', fontsize=13)\n",
    "    ax.set_title(f'Glacier {glacierId}')\n",
    "axes[-1, -1].axis('off'); # kill axis with no plot\n",
    "plt.tight_layout()"
   ]
  },
  {
   "cell_type": "code",
   "execution_count": null,
   "id": "035f011e-f72f-4542-a223-acfc2cd83096",
   "metadata": {},
   "outputs": [],
   "source": []
  }
 ],
 "metadata": {
  "kernelspec": {
   "display_name": "python-nisar",
   "language": "python",
   "name": "nisar"
  },
  "language_info": {
   "codemirror_mode": {
    "name": "ipython",
    "version": 3
   },
   "file_extension": ".py",
   "mimetype": "text/x-python",
   "name": "python",
   "nbconvert_exporter": "python",
   "pygments_lexer": "ipython3",
   "version": "3.8.12"
  }
 },
 "nbformat": 4,
 "nbformat_minor": 5
}
