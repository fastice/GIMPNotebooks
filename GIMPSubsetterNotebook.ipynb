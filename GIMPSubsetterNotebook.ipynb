{
 "cells": [
  {
   "cell_type": "markdown",
   "id": "f5787c1e",
   "metadata": {},
   "source": [
    "# GIMP Subsetter Notebook"
   ]
  },
  {
   "cell_type": "markdown",
   "id": "7300dcc6",
   "metadata": {},
   "source": [
    "## Purpose"
   ]
  },
  {
   "cell_type": "markdown",
   "id": "3352f0d0",
   "metadata": {},
   "source": [
    "This notebook allows users to download subsets of [GIMP](https://nsidc.org/data/measures/gimp) image ([NSIDC-0723](https://nsidc.org/data/nsidc-0723)) and velocity ([NSIDC-481](https://nsidc.org/data/nsidc-0481), [0725](https://nsidc.org/data/nsidc-0725), [0727](https://nsidc.org/data/nsidc-0727), [0731](https://nsidc.org/data/nsidc-0731), [0766](https://nsidc.org/data/nsidc-0766)) data. For the Sentinel-based velocity mosaics (0725, 0727, 0731), a user can select a box on a map and choose which components are downloaded (vv, vx, vy, ex, ey, dT) and saved to a netCDF file. Once the download is complete, users can [explore](#Visualizing-the-Data) the data by interactively selecting points that are plotted as time series. In the case of the TSX products (NSDIC-0481), given relatively small size of each box (~50-km-by-50-km), the full product \"box\" is downloaded. Because of the sparse nature of these boxes, only the the products associated with a single box can be downloaded at a time."
   ]
  },
  {
   "cell_type": "markdown",
   "id": "6ef4a4b5",
   "metadata": {},
   "source": [
    "While this notebook relies python, it is designed to be usable with no knowledge of python. In most cases, the default behavior will acomplish what most users want and customization can be carried out via minor tweaks of the parameters in the examples. To accomplish this goal, much of the actual python code is in [gimpfunc](https://github.com/fastice/gimpfunc) libary rather than the notebook itself. "
   ]
  },
  {
   "cell_type": "markdown",
   "id": "8ab5744f",
   "metadata": {},
   "source": [
    "## Setup"
   ]
  },
  {
   "cell_type": "markdown",
   "id": "9c9e3b4c",
   "metadata": {},
   "source": [
    "_**There are several python packages that need to be installed to execute this notebook and potentially some jupyter lab/notebook extensions. Please follow the procedures outlined in the [**NSIDCLoginNotebook**](https://github.com/fastice/GIMPNotebooks/blob/master/NSIDCLoginNotebook.ipynb)**_. These instructions assume a [*conda*](https://www.anaconda.com/products/individual) (Anaconda) install but should translate well to *pip* or other package managers. The following cell will load all of the necessary packages once they are installed. If errors occur, make sure all of the packages are installed as described in the [**NSIDCLoginNotebook**](https://github.com/fastice/GIMPNotebooks/blob/master/NSIDCLoginNotebook.ipynb) are installed. \n",
    "\n",
    "The most trouble free approach for a local machine should be to build a conda environment specific to these notebooks see [NSIDCLoginNotebook](https://github.com/fastice/GIMPNotebooks/blob/master/NSIDCLoginNotebook.ipynb)). \n",
    "\n",
    "The notebooks can be run on a temporary virtial instance (to start click [**binder**](https://mybinder.org/v2/gh/fastice/GIMPNotebooks/HEAD?urlpath=lab)). See the github [README](https://github.com/fastice/GIMPNotebooks#readme) for further details."
   ]
  },
  {
   "cell_type": "markdown",
   "id": "e1aed224",
   "metadata": {},
   "source": [
    "Execute the rest of the cells in this section to setup the software."
   ]
  },
  {
   "cell_type": "code",
   "execution_count": null,
   "id": "383d7ce8",
   "metadata": {},
   "outputs": [],
   "source": [
    "import gimpfunc as gimp\n",
    "import panel as pn\n",
    "pn.extension()\n",
    "import rioxarray\n",
    "import xarray as xr\n",
    "import holoviews as hv\n",
    "import os\n",
    "import dask\n",
    "import pandas as pd\n",
    "from dask.diagnostics import ProgressBar\n",
    "import param\n",
    "import gimpfunc.NASALogin as NASALogin"
   ]
  },
  {
   "cell_type": "markdown",
   "id": "165f2489",
   "metadata": {},
   "source": [
    "## Preliminary Setup"
   ]
  },
  {
   "cell_type": "markdown",
   "id": "dafd3144",
   "metadata": {},
   "source": [
    "The first step is where users can choose the directory where the subsetted results will be saved. If the directory is not present, it will be created (note the directory where it will be created must exist). The final product filename can be customized [below](#set_filename). "
   ]
  },
  {
   "cell_type": "code",
   "execution_count": null,
   "id": "33bfa64b",
   "metadata": {},
   "outputs": [],
   "source": [
    "subsetPath = 'Subsets'  # Modify as needed\n",
    "if not os.path.exists(subsetPath):\n",
    "    os.mkdir(subsetPath)  # Will fail if the directories above don't exist"
   ]
  },
  {
   "cell_type": "markdown",
   "id": "8dcafcb3-6868-4aba-b00e-d04afdd9de52",
   "metadata": {},
   "source": [
    "## Login if Needed"
   ]
  },
  {
   "cell_type": "markdown",
   "id": "486c95d3-b196-45b3-8e0c-6a4e3f886277",
   "metadata": {},
   "source": [
    "This step logs the user in to NSIDC using their NASA [Earth Data Login](https://urs.earthdata.nasa.gov/) credentials and saves the password in the users *.netrc* file (see [**NSIDCLoginNotebook**](https://github.com/fastice/GIMPNotebooks/blob/master/NSIDCLoginNotebook.ipynb) for details on potential security risks). \n",
    "\n",
    "The credentials do not need to be re-entred if they are still present from a prior login."
   ]
  },
  {
   "cell_type": "code",
   "execution_count": null,
   "id": "b6b26346-d364-4e10-86c3-cffab28ba5ab",
   "metadata": {},
   "outputs": [],
   "source": [
    "myLogin = NASALogin()\n",
    "myLogin.view()"
   ]
  },
  {
   "cell_type": "markdown",
   "id": "1b1ac1a4-3444-48bf-b261-401e3ccd0cb4",
   "metadata": {},
   "source": [
    "Update environment to find cookie files."
   ]
  },
  {
   "cell_type": "code",
   "execution_count": null,
   "id": "33c74230-ad03-4715-b0e1-5ea8d703274b",
   "metadata": {},
   "outputs": [],
   "source": [
    "env = dict(GDAL_HTTP_COOKIEFILE=os.path.expanduser('~/.gimp_download_cookiejar.txt'),\n",
    "            GDAL_HTTP_COOKIEJAR=os.path.expanduser('~/.gimp_download_cookiejar.txt'))\n",
    "os.environ.update(env)"
   ]
  },
  {
   "cell_type": "markdown",
   "id": "05264096",
   "metadata": {},
   "source": [
    "## Find Data"
   ]
  },
  {
   "cell_type": "markdown",
   "id": "187f2e9a",
   "metadata": {},
   "source": [
    "The first step is to locate the products of interest, which is done using the same search tool that is used for [**qgisRemoteNotebook**](https://github.com/fastice/GIMPNotebooks/blob/master/qgisRemoteNotebook.ipynb), but with some key differences. Specifically, to avoid mixing data products of different sizes and resolutions, only a single product type (e.g., NSIDC-0723 *image* mosaics) can be searched for and retrieved at a time. For velocity products, the desired bands (*vv, vy, vx, ex, ey*, and *dT*) can be selected at later [stage](#Preload-Data-and-Select-Bands). Unlike the [**qgisRemoteNotebook**](https://github.com/fastice/GIMPNotebooks/blob/master/qgisRemoteNotebook.ipynb) search, TSX (NSIDC-0481) boxes are specified by name (e.g., *W69.10N*) rather than by a bounding box. A map of the box locations included in the NSIDC-0481 [User Guide](https://nsidc.org/data/nsidc-0481/versions/3)."
   ]
  },
  {
   "cell_type": "markdown",
   "id": "6b65308f",
   "metadata": {},
   "source": [
    "To carry out a search, run the next cell to bring up the search panel and perform a search. Once a search has completed and the desired products are listed, proceed to the [next steps](#Spatial-Subsetting). Once the results have been processed and downloaded, a new search can be peformed to find and download additional data. "
   ]
  },
  {
   "cell_type": "code",
   "execution_count": null,
   "id": "8c3b1ec0",
   "metadata": {},
   "outputs": [],
   "source": [
    "myUrls = gimp.cmrUrls(mode='subsetter')  # Subsetter mode is required for subsetting.\n",
    "myUrls.view()"
   ]
  },
  {
   "cell_type": "markdown",
   "id": "4b01f60f",
   "metadata": {},
   "source": [
    "## Subsetting Basics"
   ]
  },
  {
   "cell_type": "markdown",
   "id": "1a0c68a7",
   "metadata": {},
   "source": [
    "Examples are included below for [Velocity Mosaics](#Velocity-Mosaics-(NSIDC-0725,-0727,-and-0731)), [Individual Glaciers](#Indidvidual-Glaciers-(NSIDC-0481)), and [Image Mosaics](#Image-Mosaics). Before jumping to one one of these steps, its important to describe the data formats and to provide some background on the tools used."
   ]
  },
  {
   "cell_type": "markdown",
   "id": "65a9d03a",
   "metadata": {},
   "source": [
    "### NetCDF and Xarray"
   ]
  },
  {
   "cell_type": "markdown",
   "id": "5bb7de92",
   "metadata": {},
   "source": [
    "The subsetted data are downloaded to NetCDF ([Network Common Data Format](https://www.unidata.ucar.edu/software/netcdf/)) files, which allows storage of data with multiple layers coincident with the meta data describing these layers. For GIMP data sets it is particularly useful because multiple maps (hundreds or more) in a time series can be stored in a single file and easy and rapid accessed. By contrast, if the data are stored in individual files, potentially hundreds of files need to be opened to access a single point in space and time."
   ]
  },
  {
   "cell_type": "markdown",
   "id": "de9aecfd",
   "metadata": {},
   "source": [
    "This and subsequent notebooks make extensive use of [xarray](http://xarray.pydata.org/en/stable/why-xarray.html), which is a python library that is especially well suited to working with NetCDF files. In particular, it can read NetCDF files into well-labeled arrays along with meta-data structures. Here we also take advantage of [rioxarray](https://corteva.github.io/rioxarray/stable/), which builds on xarray to add the ability to append coordinate reference system [CRS](https://proj.org/faq.html#what-is-the-best-format-for-describing-coordinate-reference-systems) information. It also adds capability from the [rasterio](https://rasterio.readthedocs.io/en/latest/) library for working with geospatial imagery. These programs also utilize [dask](https://dask.org/) to perform parallel operations, which can greatly speed data access. The main focus of this notebook is on subsetting the data rather than working with the downloaded result. A subsequent notebook will provide examples of working with xarray data in greater detail. That said, a tool for visualizing the data for basic inspection is included [below](#Visualizing-the-Data)."
   ]
  },
  {
   "cell_type": "markdown",
   "id": "f5332584",
   "metadata": {},
   "source": [
    "The data sets stored as xarrays are organized as 4-D arrays indexed by **time** ([np.datetime64](https://numpy.org/doc/stable/reference/arrays.datetime.html)), **component** (e.g., 'vx', 'vy', 'image'), and **x** and **y**, which are the [EPSG 3413](https://epsg.io/3413)-projection coordinates in meters. The time range is selected as part of the search described above. The appropriate components can be selected [below](#Visualizing-the-Data). For all but NISDC-0481, the spatial subsetting is performed as the next step. "
   ]
  },
  {
   "cell_type": "markdown",
   "id": "4d5f5587",
   "metadata": {},
   "source": [
    "## Spatial Subsetting"
   ]
  },
  {
   "cell_type": "markdown",
   "id": "ed6763a8",
   "metadata": {},
   "source": [
    "The area to be subsetted is specified as a python dictionary with minimum and maximum *x* and *y* values. Before selecting a box consider the size. For example, with no compression once the data are read, the full NISDC-0723 image data set is >1.700 TB (just for one band). The main benefit of this notebook is that a particular region of interest can be extracted without requiring that the whole data set be downloaded, greatly reducing the volume of data to be downloaded and stored. When not loading a previously created search region, there are two methods for selecting a new region of interest. Before the final subsetting, the user can review the size of the product and iterate as needed to produce a reasonably sized data set. While the region of interest can be selected, all products are downloaded at their original grid spacing.\n",
    "\n",
    "_**Note due to the small size of the NSIDC-0481 (aka TSX) products, the entire products are downloaded with no subsetting. Thus, if NSIDC-0481 products were selected, the subsetting steps will be bypassed.**_"
   ]
  },
  {
   "cell_type": "markdown",
   "id": "db8b9640",
   "metadata": {},
   "source": [
    "### Method 1: Manual Selection"
   ]
  },
  {
   "cell_type": "markdown",
   "id": "20a51841",
   "metadata": {},
   "source": [
    "The coordinates for bounding box, `bbox`, can be manually entered by modifying the cell below with the desired values. Even if not using interactive [selection](#Method-2:-Interactive-Selection), running that step displays the manually selected box coordinates on radar map of Greenland. Note by default, coordinates are rounded to the nearest kilometer. This behavior can be modified [below](#rounding_info)."
   ]
  },
  {
   "cell_type": "code",
   "execution_count": null,
   "id": "589add64",
   "metadata": {},
   "outputs": [],
   "source": [
    "bbox = {'minx': -243500, 'miny': -2295000, 'maxx': -149000, 'maxy': -2255000}  # Modifiy values as needed\n",
    "boxPicker = gimp.boxPicker(bbox=bbox)  # Create a map for possible viewing"
   ]
  },
  {
   "cell_type": "markdown",
   "id": "8e583c97",
   "metadata": {},
   "source": [
    "If a box was saved as part of a prior [download](#Subset-and-Download-Data), it can be reloaded here by uncommenting and modifying the cell below with the name of the file."
   ]
  },
  {
   "cell_type": "code",
   "execution_count": null,
   "id": "a3d257c9",
   "metadata": {},
   "outputs": [],
   "source": [
    "# boxPicker = gimp.boxPicker(boxFile='changetoboxname.yaml')"
   ]
  },
  {
   "cell_type": "markdown",
   "id": "7a577858",
   "metadata": {},
   "source": [
    "### Method 2: Interactive Selection"
   ]
  },
  {
   "cell_type": "markdown",
   "id": "7eee07be",
   "metadata": {},
   "source": [
    "Run the next the tool below to select the bounding box (or modify a manually selected box), which will display a SAR image map. Depending on network speed, it could take a few seconds to a minute to load the basemap. Use the box tool in the plot menu to select a region of interest. Then proceed to the next [step](#Preload-Data-and-Select-Bands)."
   ]
  },
  {
   "cell_type": "code",
   "execution_count": null,
   "id": "9854fc16",
   "metadata": {},
   "outputs": [],
   "source": [
    "if 'boxPicker' not in locals(): # Only create if not defined above\n",
    "    boxPicker = gimp.boxPicker()\n",
    "boxPicker.plotMap(show=not myUrls.checkIDs(['NSIDC-0481']))  # Skips map if a 481 product"
   ]
  },
  {
   "cell_type": "markdown",
   "id": "0b398596",
   "metadata": {},
   "source": [
    "Once the desired box has been selected, proceed to appropriate section for the selected product type:  [Velocity Mosaics](#Velocity-Mosaics-(NSIDC-0725,-0727,-and-0731)), [Individual Glaciers](#Indidvidual-Glaciers-(NSIDC-0481)), and [Image Mosaics](#Image-Mosaics-(NSIDC-0723))."
   ]
  },
  {
   "cell_type": "markdown",
   "id": "1e8a477e",
   "metadata": {},
   "source": [
    "## Preload Data and Select Bands"
   ]
  },
  {
   "cell_type": "markdown",
   "id": "dbeec090",
   "metadata": {},
   "source": [
    "The cells in this section read the cloud-optimized geotiffs ([COG](https://www.cogeo.org/)) headers and create an xarray inside a GIMPSubsetter object. The actual data are not downloaded at this stage, but the xarray will read the header data of each product so it can efficiently access the data during later downloads. The bands (e.g., vx, vy) can be selected at this stage.\n",
    "\n",
    "Note that the product-specific cells will only run if the appropriate data type was selected. As a result, if everything else has been configured correctly, the rest of the notebook can be executed and it will skip unecessary cells."
   ]
  },
  {
   "cell_type": "markdown",
   "id": "446f3ca9",
   "metadata": {},
   "source": [
    "### Velocity Mosaics (NSIDC 0725, 0727, 0731, 0766)"
   ]
  },
  {
   "cell_type": "markdown",
   "id": "4b9c8323",
   "metadata": {},
   "source": [
    "If velocity mosaic products were selected, this cell will read the COG headers and create an xarray inside a `GIMPSubsetter` object. The `bands` list below can be edited to select which bands will be downloaded (see [user guide](https://nsidc.org/data/nsidc-0725) for band info)."
   ]
  },
  {
   "cell_type": "code",
   "execution_count": null,
   "id": "b6e675a0",
   "metadata": {},
   "outputs": [],
   "source": [
    "if myUrls.checkIDs(['NSIDC-0725', 'NSIDC-0727', 'NSIDC-0731', 'NSIDC-0766']):\n",
    "    ProgressBar().register()\n",
    "     # Edit to add or remove bands\n",
    "    products = gimp.GIMPSubsetter(urls=myUrls.getCogs(), \n",
    "                                  bands=['vv', 'vx', 'vy', 'ex', 'ey', 'dT']) # vx,vy,vy, ex, ey, dT\n",
    "    #products.loadDataArray()  # Open COGS and read meta data.\n",
    "    products.loadStackStac()\n",
    "    \n",
    "    print('Velocity Mosaic Data Selected')"
   ]
  },
  {
   "cell_type": "markdown",
   "id": "2e73f05a",
   "metadata": {},
   "source": [
    "If this block ran successfully the meta data for all relevant images to create the xarray, but the actual data themselves were not downloaded. This result is now ready to be subsetted and [downloaded](#Subset-and-Download-Data)."
   ]
  },
  {
   "cell_type": "markdown",
   "id": "e476ac33",
   "metadata": {},
   "source": [
    "### Indidvidual Glaciers (NSIDC-0481)"
   ]
  },
  {
   "cell_type": "markdown",
   "id": "6740c821",
   "metadata": {},
   "source": [
    "If individual glacier products were selected, this cell will read the COG headers and create an xarray inside a GIMPSubsetter object. The bands list below can be edited to select which bands will be downloaded (see [user guide](https://nsidc.org/data/nsidc-0481/versions/3) for band info)."
   ]
  },
  {
   "cell_type": "code",
   "execution_count": null,
   "id": "cff927f3",
   "metadata": {},
   "outputs": [],
   "source": [
    "if myUrls.checkIDs(['NSIDC-0481']):\n",
    "    ProgressBar().register()\n",
    "     # Edit to add or remove bands\n",
    "    products = gimp.GIMPSubsetter(urls=myUrls.getCogs(), \n",
    "                                  bands=['vv', 'vx', 'vy', 'ex', 'ey']) # vx,vy,vy, ex, ey\n",
    "    products.loadDataArray()  # Open COGS and read meta data.\n",
    "    print('Individual Glacier Data Selected')"
   ]
  },
  {
   "cell_type": "markdown",
   "id": "752b1840",
   "metadata": {},
   "source": [
    "If this block ran successfully the meta data for all relevant images to create the xarray, but the actual data themselves were not downloaded. This result is now ready to be [downloaded](#Subset-and-Download-Data)."
   ]
  },
  {
   "cell_type": "markdown",
   "id": "b250413d",
   "metadata": {},
   "source": [
    "### Image Mosaics (NSIDC-0723)"
   ]
  },
  {
   "cell_type": "markdown",
   "id": "15448aa9",
   "metadata": {},
   "source": [
    "The procedure for image mosaiacs is similar to that for the velocity data. The major exception is that only a single band can be downloaded at a time to avoid downloading bands with different sizes. This single band is defined through the product filter in [search panel](#Find-Data). Run the notebook again to download other bands."
   ]
  },
  {
   "cell_type": "code",
   "execution_count": null,
   "id": "9c740866",
   "metadata": {},
   "outputs": [],
   "source": [
    "def productType(cog):\n",
    "    ''' Extract product type from file name '''\n",
    "    return cog.split('/')[-1].split('_')[-3]\n",
    "\n",
    "if myUrls.checkIDs(['NSIDC-0723']):\n",
    "    ProgressBar().register()\n",
    "    products = gimp.GIMPSubsetter(urls=myUrls.getCogs(), \n",
    "                                  bands=[productType(myUrls.getCogs()[0])]) # band auto selected.\n",
    "    #products.loadDataArray()  # Open COGS and read meta data.\n",
    "    products.loadStackStac()\n",
    "else:\n",
    "    print('No Image Mosaic data selected')"
   ]
  },
  {
   "cell_type": "markdown",
   "id": "2e628f1f",
   "metadata": {},
   "source": [
    "If this block ran successfully the meta data for all relevant images to create the xarray, but the actual data themselves were not downloaded. This result is now ready to be subsetted and [downloaded](#Subset-and-Download-Data)."
   ]
  },
  {
   "cell_type": "markdown",
   "id": "f7ee85da",
   "metadata": {},
   "source": [
    "## Subset and Download Data"
   ]
  },
  {
   "cell_type": "markdown",
   "id": "e9e635ea",
   "metadata": {},
   "source": [
    "Before applying the final subset, its useful to examine the size of the full data (virtual) array. If the `loadDataArray` step was sucessful, this next cell will provide details on the size and organization of the full xarray (prior to any download)."
   ]
  },
  {
   "cell_type": "code",
   "execution_count": null,
   "id": "07a36ec4",
   "metadata": {},
   "outputs": [],
   "source": [
    "products.DA # Add ; at the end to suppress output"
   ]
  },
  {
   "cell_type": "markdown",
   "id": "b3abe8f4",
   "metadata": {},
   "source": [
    "### Subset"
   ]
  },
  {
   "cell_type": "markdown",
   "id": "083cf593",
   "metadata": {},
   "source": [
    "For products other than those in NISDIC-0481, this next step will clip the data set to the bounding box created [above](#Spatial-Subsetting) and display the organization of the resulting subset. \n",
    "\n",
    "The box coordinates are rounded to the nearest km, which can be altered by changing the value of `decimals` below ([see numpy.around](https://docs.scipy.org/doc/numpy-1.13.0/reference/generated/numpy.around.html#numpy.around)). <a id='rounding_info'></a>"
   ]
  },
  {
   "cell_type": "code",
   "execution_count": null,
   "id": "7394ea65",
   "metadata": {},
   "outputs": [],
   "source": [
    "if not myUrls.checkIDs(['NSIDC-0481']):  # Anything but a 481\n",
    "    products.subSetData(boxPicker.boxBounds(decimals=-3))  # -3 rounds to 1km, -2 to 100m...\n",
    "else:\n",
    "    print('NSIDC-0481 - so entire data set will be saved')\n",
    "products.subset # Add ; at the end to suppress output"
   ]
  },
  {
   "cell_type": "markdown",
   "id": "d512d652",
   "metadata": {},
   "source": [
    "If the subset product seems a reasonable size, execute the next statement to save the data. If not, repeat the [search](#Find-Data) to select different set of products or date range, repeat the box selection to choose a different sized [bounding box](#Spatial-Subsetting), or change the [bands](#Preload-Data-and-Select-Bands) that were selected. The next cell is used to specify the name, which will default to *subsetPath/prefix.NSIDC-0XXX.nc*. For NSIDC-0481 products, the box name (e.g., W69.1N) will be appended. This cell can be modified to override the default name as needed. In particular, the prefix can be updated to create names unique to each search. <a id='set_filename'></a>"
   ]
  },
  {
   "cell_type": "code",
   "execution_count": null,
   "id": "fd6a1d74",
   "metadata": {},
   "outputs": [],
   "source": [
    "prefix = 'GIMPSubset'  # Rename as needed\n",
    "# Add path defined above and append with productID (e.g., NSIDC-0723)\n",
    "subsetFile = f'{subsetPath}/{prefix}.{myUrls.getIDs()[0]}{myUrls.findTSXBoxes()[0]}.nc'\n",
    "if not myUrls.checkIDs(['NSIDC-0481']):  # Anything but a 481\n",
    "    boxPicker.saveBox(subsetFile.replace('nc', 'yaml'))   # Save box for non 481 products"
   ]
  },
  {
   "cell_type": "markdown",
   "id": "30b926b0",
   "metadata": {},
   "source": [
    "The data are now ready for download, which will be accomplished by running the next cell. Note, this step uses *dask* to improve download speed with multiple parallel streams ('workers'). While the NISDC limit on simultaneous connections is 15, errors can cause timeouts so that the job may crash with far few workers, particularly with some of the older COG formats (all products should be upated by late Spring 2021). Too many workers may also saturate the available network bandwidth. With 4 workers, 562 W69.1N (aka Jakobshavn) products with all components (6.88GB) downloaded sucessfully in 13.3 minutes through the University of Washington network."
   ]
  },
  {
   "cell_type": "code",
   "execution_count": null,
   "id": "70415c45",
   "metadata": {},
   "outputs": [],
   "source": [
    "# MEM -> 2.3 GB, then drops to stead 1.6.... hm? hangs in middle of saving... \n",
    "if not myUrls.checkIDs(['NSIDC-0481']):\n",
    "    # RasterSpec class unable to save in netcdf\n",
    "    del products.subset.attrs['spec']\n",
    "    products.subSetToNetCDF(subsetFile, numWorkers=4)  # Use lower number if crashes, bump up <15 to increase download speed.\n",
    "else:\n",
    "    products.saveAll(subsetFile, numWorkers=4)"
   ]
  },
  {
   "cell_type": "markdown",
   "id": "b892374b",
   "metadata": {},
   "source": [
    "## Visualizing the Data"
   ]
  },
  {
   "cell_type": "markdown",
   "id": "6398ee6d",
   "metadata": {},
   "source": [
    "This section is designed for quick exploration of the data to determine whether the data were satisfactorily downloaded and will meet the users needs. The first step is to open the netCDF file as an xarray and display a summary of its organization."
   ]
  },
  {
   "cell_type": "code",
   "execution_count": null,
   "id": "0fa26a06",
   "metadata": {},
   "outputs": [],
   "source": [
    "try: # This action will clear any prexisting cache for a file with the same name\n",
    "    myData.close()\n",
    "except Exception:\n",
    "    pass\n",
    "# Now open data\n",
    "myData = xr.open_dataset(subsetFile)\n",
    "myData  # Add ; at the end to suppress output # NOTE: assign collection name as data variable for netcdf file. How is this all chuncked on disk?"
   ]
  },
  {
   "cell_type": "markdown",
   "id": "0f9f8a0d",
   "metadata": {},
   "source": [
    "The next cell allows the user to select points on the map and click to product a timeseries plot of one of the components in the data set. Change the `component` and rerun to visualize other components."
   ]
  },
  {
   "cell_type": "code",
   "execution_count": null,
   "id": "10e2b193",
   "metadata": {},
   "outputs": [],
   "source": [
    "component = str(myData.component[0].values)  # Picks first component- manually override as needed.\n",
    "# component = 'vv' # Uncomment and modify to override default. \n",
    "points = gimp.pointInspector(myData, component=component)\n",
    "points.view(component=component, \n",
    "            mapTitle=f'{myUrls.getIDs()[0]} {component}',\n",
    "            plotTitle=f'{myUrls.getIDs()[0]} {component}',\n",
    "            ncols=2)  # Change to 1 for single column rather than single row format"
   ]
  },
  {
   "cell_type": "markdown",
   "id": "79ca1172",
   "metadata": {},
   "source": [
    "This tool is largely for inspection, rather than for producing publication-ready plots. The following keywords can be updated and passed to `points.view()` (e.g. `points.view(... logz=False`). Note the defaults are data type dependent."
   ]
  },
  {
   "cell_type": "code",
   "execution_count": null,
   "id": "7ed830a4",
   "metadata": {},
   "outputs": [],
   "source": [
    "print(points.imgOptions)\n",
    "print(points.plotOptions)"
   ]
  },
  {
   "cell_type": "markdown",
   "id": "ebf8bbf1",
   "metadata": {},
   "source": [
    "Execute this cell to get a listing of downloaded products"
   ]
  },
  {
   "cell_type": "code",
   "execution_count": null,
   "id": "b531806a",
   "metadata": {},
   "outputs": [],
   "source": [
    "!ls -ltrh {subsetPath}"
   ]
  },
  {
   "cell_type": "markdown",
   "id": "a2ff0d7c-4707-4659-92ad-f760b3d65c8f",
   "metadata": {},
   "source": [
    "If running on a remote server such as binder, uncomment and run this line to save the results in a single _tar_ file for download."
   ]
  },
  {
   "cell_type": "code",
   "execution_count": null,
   "id": "a7920430-c9b7-4063-861c-dbcf2a474513",
   "metadata": {},
   "outputs": [],
   "source": [
    "#!tar -cvf forDownload.tar {subsetPath}/*"
   ]
  },
  {
   "cell_type": "markdown",
   "id": "60bd2232",
   "metadata": {},
   "source": [
    "This notebook is now complete. If everything ran sucessfully the data is ready for analysis in other notebooks or applications."
   ]
  }
 ],
 "metadata": {
  "kernelspec": {
   "display_name": "Python 3 (ipykernel)",
   "language": "python",
   "name": "python3"
  },
  "language_info": {
   "codemirror_mode": {
    "name": "ipython",
    "version": 3
   },
   "file_extension": ".py",
   "mimetype": "text/x-python",
   "name": "python",
   "nbconvert_exporter": "python",
   "pygments_lexer": "ipython3",
   "version": "3.8.12"
  }
 },
 "nbformat": 4,
 "nbformat_minor": 5
}
