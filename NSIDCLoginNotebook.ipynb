{
 "cells": [
  {
   "cell_type": "markdown",
   "metadata": {},
   "source": [
    "# Setup Cookie for NSDIC Login"
   ]
  },
  {
   "cell_type": "markdown",
   "metadata": {},
   "source": [
    "## Notebook Purpose"
   ]
  },
  {
   "cell_type": "markdown",
   "metadata": {},
   "source": [
    "Running this Notebook will create a cookie file and create or append a `~.netrc` for use by *gdal* and *QGIS* to remotely access files at NSIDC server. \n",
    "\n",
    "This file should work for days to weeks and can be refreshed by running this notebook again. In particular, this Notebook should be used for *QGIS* projects with remote links to files at NSIDC. \n",
    "\n",
    "The setup process for this notebook also applies to several other notebooks for working with GIMP data."
   ]
  },
  {
   "cell_type": "markdown",
   "metadata": {},
   "source": [
    "## Getting Started"
   ]
  },
  {
   "cell_type": "markdown",
   "metadata": {},
   "source": [
    "The following instructions assume the presence of several python packages. The instructions below have been tested with a conda (Anaconda) install, which is the recommended approach especially for novice python users.  The conda-specic instructions should contain sufficient information for users proficient with other package managers (e.g., pip) to get this notebook up and running."
   ]
  },
  {
   "cell_type": "markdown",
   "metadata": {},
   "source": [
    "### GIMP Specific Code"
   ]
  },
  {
   "cell_type": "markdown",
   "metadata": {},
   "source": [
    "As a first step, users will need to download some custom code from git hub. This step can be performed by either cloning the repository https://github.com/fastice/gimpfunc.git from browser or from the command line via:"
   ]
  },
  {
   "cell_type": "markdown",
   "metadata": {},
   "source": [
    "`git clone git@github.com:fastice/gimpfunc.git`"
   ]
  },
  {
   "cell_type": "markdown",
   "metadata": {},
   "source": [
    "For simplicity, this step can either be excuted in the directory where you wish to run the notebook. Better yet install it somewhere central and add it to your `PYTHONPATH` environment variable. Or uncomment and modify as needed this command so that the directory is accessible to this Notebook:"
   ]
  },
  {
   "cell_type": "code",
   "execution_count": null,
   "metadata": {},
   "outputs": [],
   "source": [
    "# By default this command assumes gimpfunc is under the home directory. Modify with approprite path as needed.\n",
    "# import sys\n",
    "# import os\n",
    "# sys.path.append('os.path.expanduser('~/gimpfunc'))"
   ]
  },
  {
   "cell_type": "markdown",
   "metadata": {},
   "source": [
    "### Conda Install"
   ]
  },
  {
   "cell_type": "markdown",
   "metadata": {},
   "source": [
    "For users not already using conda, this package manager can be downloaded from: https://www.anaconda.com/products/individual. Unfortunately, some of the standard anaconda releases do not work well with this notebook and its strongly reccomended that all packages be downloaded from the conda-forge channel. Because, mixing conda-forge with the regular conda packages can cause some package conflict issues, the cleanest approach is to create a new conda environment. (For those unfamiliar with conda, this means creating an environment that when activated runs a completely independent set of code). Using a seperate enviroment will both help ensure success in running this notebook as well avoiding causing problems with existing conda environments (users with a conda-forge priority environment can probably use their existing environment).\n",
    "\n",
    "The `gimpfunc` directory downloaded from github contains a file, `environment.yaml` that will create a new environment called `forge` by executing the command: "
   ]
  },
  {
   "cell_type": "markdown",
   "metadata": {},
   "source": [
    "`conda env create -f environment.yaml`"
   ]
  },
  {
   "cell_type": "markdown",
   "metadata": {},
   "source": [
    "This command will create a new a new environment and download the listed packages and their dependencies, totalling about 1GB. Some of these packages are not required for this notebook, but will be required by other GIMP notebooks. Everytime this notebook is run, activate the environment via:"
   ]
  },
  {
   "cell_type": "markdown",
   "metadata": {},
   "source": [
    "`conda activate forge` (Note the name `forge` can be changed prior to creating the evironment by editing the `environment.yaml` file.)"
   ]
  },
  {
   "cell_type": "markdown",
   "metadata": {},
   "source": [
    "Juptyer lab can then be run from the command line (ideally from the directory where the notebook is located) as:"
   ]
  },
  {
   "cell_type": "markdown",
   "metadata": {},
   "source": [
    "`jupyter lab NISDCLoginNotebook.ipynb`"
   ]
  },
  {
   "cell_type": "markdown",
   "metadata": {},
   "source": [
    "### Trouble Shooting"
   ]
  },
  {
   "cell_type": "markdown",
   "metadata": {},
   "source": [
    "The above conda installation should ensure that the version of jupyter lab is >= 3.0. If an earlier version of jupyter lab is used, then the following extensions need to be enabled:\n",
    "* `jupyter labextension install @pyviz/jupyterlab_pyviz`\n",
    "* `jupyter labextension install @jupyter-widgets/jupyterlab-manager`\n",
    "* `jupyter labextension install @jupyterlab/server-proxy`\n",
    "\n",
    "Note without the extendsions nothing may appear broken(i.e., no error message), but the Notebook likely will not function correctly."
   ]
  },
  {
   "cell_type": "markdown",
   "metadata": {},
   "source": [
    "## Setup"
   ]
  },
  {
   "cell_type": "markdown",
   "metadata": {},
   "source": [
    "This next cell will import everything need for the login. If something above was not installed properly, its likely an error will occur at this stage."
   ]
  },
  {
   "cell_type": "code",
   "execution_count": null,
   "metadata": {},
   "outputs": [],
   "source": [
    "import gimpfunc.NASALogin as NASALogin\n",
    "import panel\n",
    "import os\n",
    "panel.extension()"
   ]
  },
  {
   "cell_type": "markdown",
   "metadata": {},
   "source": [
    "## Create the Login Cookie and update/create .netrc File"
   ]
  },
  {
   "cell_type": "markdown",
   "metadata": {},
   "source": [
    "### What this Process Will Do"
   ]
  },
  {
   "cell_type": "markdown",
   "metadata": {},
   "source": [
    "Many of the GIMP notebooks and QGIS projects use remote links to data archived at NSIDC. Each a progam (e.g., *QGIS*) or Notebook requests these data it needs to authenticate via the user's NASA EarthData login (users who don't have a login can sign up here: https://urs.earthdata.nasa.gov/users/new). This Notebook will set up that authentication so that the process happens automatically when a Notebook or QGIS try to access those files. In particular, it will create a cookie file (`.gimp_download_cookiejar.txt`) in the user's home directory that *GDAL* (one of the installed packages) uses to redirect the login appropriately for remote file access. It also creates a new or appends to an existing `.netrc` file in the user's home directory to include the login id and password (see security risks below). In principle, this notebook should only need to be run once to set thes files up, but can be rerun if needed. Further steps outlined below are required for programs to use this information."
   ]
  },
  {
   "cell_type": "markdown",
   "metadata": {},
   "source": [
    "If a valid cookie file and .netrc file already exists, this step will print a simple text message saying so and no further action is needed. If not, a widget will allow entry of NASA Earth Data credentials. If the login is successful, the status message will turn blue and indicate success. Orange indicates the cookie file exists, but login credentials are needed for the .netrc file."
   ]
  },
  {
   "cell_type": "code",
   "execution_count": null,
   "metadata": {},
   "outputs": [],
   "source": [
    "myLogin = NASALogin()\n",
    "#myLogin.resetCookie() # Uncomment to delete prior cookie (e.g., if expired or corrupted)\n",
    "myLogin.view()"
   ]
  },
  {
   "cell_type": "markdown",
   "metadata": {},
   "source": [
    "### Troubleshooting"
   ]
  },
  {
   "cell_type": "markdown",
   "metadata": {},
   "source": [
    "If it appears that the credentials were entered correctly, but the status message does not indicate so, run the following cell, which will indicate login success as `True` and failure as `False`. It also checks whether a .netrc file exists. If still having problems, check the contents of the .netrc file."
   ]
  },
  {
   "cell_type": "code",
   "execution_count": null,
   "metadata": {},
   "outputs": [],
   "source": [
    "print(f'Login status: {myLogin.check_cookie()}')\n",
    "print(f'.netrc exists: {os.path.exists(os.path.expanduser(\"~/.netrc\"))}')"
   ]
  },
  {
   "cell_type": "markdown",
   "metadata": {},
   "source": [
    "## Potential Security Risks"
   ]
  },
  {
   "cell_type": "markdown",
   "metadata": {},
   "source": [
    "The `.netrc` file that is created as part of this process is a potential security risk as it saves your username/password (only NASA Earth Data Login in this case) as clear text. The file is created as user only access (-rw-------). If your acount is reasonably secure and you are using a password **_unique_** to this login, then this may be a reasonable risk (i.e, only your NASA Earth Data account could be compromised). If you are concerned, delete `~/.netrc` after each use and then regenerate with this notebook as needed."
   ]
  },
  {
   "cell_type": "markdown",
   "metadata": {},
   "source": [
    "## QGIS Setup"
   ]
  },
  {
   "cell_type": "markdown",
   "metadata": {},
   "source": [
    "If a QGIS project includes remote */vsicurl* links to remote products at NSIDC GDAL needs to authenticate using the cookie file just described. So QGIS needs to know how to find it. Depending on how QGIS starts, it **_may_** read these directly from the users enviroment variables. In which case all the user has to do is specify them. For example,\n",
    "* `export GDAL_HTTP_COOKIEFILE=~/.gimp_download_cookiejar.txt` for bash or `setenv GDAL_HTTP_COOKIEFILE ~/.gimp_download_cookiejar.txt` for csh/tcsh.\n",
    "* `export GDAL_HTTP_COOKIEJAR=~/.gimp_download_cookiejar.txt` for bash or `setenv GDAL_HTTP_COOKIEJAR ~/.gimp_download_cookiejar.txt` for csh/tcsh.\n",
    "\n",
    "**_When run as an app (e.g., not from the commandline on a Mac or Pc), in many cases these variables should be set in QGIS using_** `Settings->Options->System->Environment` - see https://github.com/fastice/GIMPNotebooks/blob/master/QGISVariableSettings.png.\n",
    "\n",
    "Note at least with conda installed *QGIS* called from an Ubuntu command line, the data load much quicker when the cookie is specified with user specified environment variables (as opposed to inside QGIS). As a result, it may be a good choice to select the `If Undefined` option under the Apply column when you enter the variables in QGIS. This will cause to use the system variables as the first and fastest option when they are available."
   ]
  },
  {
   "cell_type": "markdown",
   "metadata": {},
   "source": [
    "### QGIS Troubleshooting"
   ]
  },
  {
   "cell_type": "markdown",
   "metadata": {},
   "source": [
    "The setup procedure has been verified to work with 'QGIS' V3.16 and above. It did not work with at least one instance of V3.10. "
   ]
  },
  {
   "cell_type": "markdown",
   "metadata": {},
   "source": [
    "In building the environment, a version of QGIS was installed, which while it can be opened via a command line call on Ubuntu 20.04 it does not appear to open properly on Mac Big Sur. Thus, some users will have greater success downloading and installing the app directly (it should also be more full featured than the conda version). Some of the notebooks, however, need to load the `QGIS` core libraries, which can be difficult to find when it is installed as an app. Thus, users should make sure the conda version is also installed."
   ]
  },
  {
   "cell_type": "markdown",
   "metadata": {},
   "source": [
    "## Other Notebooks"
   ]
  },
  {
   "cell_type": "markdown",
   "metadata": {},
   "source": [
    "The login setup in this notebook is required for some of the other notebooks. Alternatively, these can be set as environment variables as described above under **QGIS Setup**.\n",
    "\n",
    "By default the cookie file will reside in the users home directory with the name `.gimp_download_cookiejar.txt`. To point other notebooks to the cookie file within a notebook, use a suitably modifed version of the command below. "
   ]
  },
  {
   "cell_type": "code",
   "execution_count": null,
   "metadata": {},
   "outputs": [],
   "source": [
    "env = dict(GDAL_HTTP_COOKIEFILE=os.path.expanduser('~/.gimp_download_cookiejar.txt'),\n",
    "            GDAL_HTTP_COOKIEJAR=os.path.expanduser('~/.gimp_download_cookiejar.txt'))\n",
    "os.environ.update(env)"
   ]
  },
  {
   "cell_type": "code",
   "execution_count": null,
   "metadata": {},
   "outputs": [],
   "source": []
  }
 ],
 "metadata": {
  "kernelspec": {
   "display_name": "Python 3.7.4 64-bit ('base': conda)",
   "language": "python",
   "name": "python37464bitbaseconda305c2a8870664c559d13b4c803d5d6df"
  },
  "language_info": {
   "codemirror_mode": {
    "name": "ipython",
    "version": 3
   },
   "file_extension": ".py",
   "mimetype": "text/x-python",
   "name": "python",
   "nbconvert_exporter": "python",
   "pygments_lexer": "ipython3",
   "version": "3.7.9"
  }
 },
 "nbformat": 4,
 "nbformat_minor": 4
}
