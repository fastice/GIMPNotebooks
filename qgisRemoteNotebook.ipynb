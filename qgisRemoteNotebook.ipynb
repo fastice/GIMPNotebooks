{
 "cells": [
  {
   "cell_type": "markdown",
   "id": "innovative-climb",
   "metadata": {
    "tags": []
   },
   "source": [
    "# Create a QGIS Project that Remotely Accesses GIMP Products at NSIDC"
   ]
  },
  {
   "cell_type": "markdown",
   "id": "seasonal-postage",
   "metadata": {},
   "source": [
    "## Notebook Purpose"
   ]
  },
  {
   "cell_type": "markdown",
   "id": "together-climb",
   "metadata": {},
   "source": [
    "This noteboook allows users to select and search for GIMP products in the NSIDC archive. Once the search is complete, it will build a QGIS project file that allows browsing of the remote data at NSIDC. Once the appropriate steps for authentication have been executed (see **NSIDCLoginNotebook**), the resulting QGIS project can be opened to display products located remotely at NSIDC. The GIMP products are stored as Cloud Optimized Geotiffs (COGs), which allows relatively fast display even over slow internet connections. "
   ]
  },
  {
   "cell_type": "markdown",
   "id": "portable-circus",
   "metadata": {},
   "source": [
    "## Setup"
   ]
  },
  {
   "cell_type": "markdown",
   "id": "painful-state",
   "metadata": {},
   "source": [
    "There are several python packages that need to be installed to execute this notebook. In addition it may be necessary to install several jupyter lab/notebook extensions. Please follow the procedures outlined in the **NSIDCLoginNotebook**. The instructions there assume an Anaconda (conda) install but should translate well to *pip* or other package managers. The following cell will load all of the necessary packages. If errors occur, make sure all of the packages in the **NSIDCLoginNotebook** are installed. *Note this applies to qgis even if you are running __QGIS__ from a standalone installation*. In principle, the __QGIS__ API should be accessible, but it often hard to find so its often easier to install seperately with conda."
   ]
  },
  {
   "cell_type": "code",
   "execution_count": 4,
   "id": "southwest-ideal",
   "metadata": {},
   "outputs": [
    {
     "data": {
      "application/javascript": [
       "\n",
       "(function(root) {\n",
       "  function now() {\n",
       "    return new Date();\n",
       "  }\n",
       "\n",
       "  var force = true;\n",
       "\n",
       "  if (typeof root._bokeh_onload_callbacks === \"undefined\" || force === true) {\n",
       "    root._bokeh_onload_callbacks = [];\n",
       "    root._bokeh_is_loading = undefined;\n",
       "  }\n",
       "\n",
       "  if (typeof (root._bokeh_timeout) === \"undefined\" || force === true) {\n",
       "    root._bokeh_timeout = Date.now() + 5000;\n",
       "    root._bokeh_failed_load = false;\n",
       "  }\n",
       "\n",
       "  function run_callbacks() {\n",
       "    try {\n",
       "      root._bokeh_onload_callbacks.forEach(function(callback) {\n",
       "        if (callback != null)\n",
       "          callback();\n",
       "      });\n",
       "    } finally {\n",
       "      delete root._bokeh_onload_callbacks\n",
       "    }\n",
       "    console.debug(\"Bokeh: all callbacks have finished\");\n",
       "  }\n",
       "\n",
       "  function load_libs(css_urls, js_urls, callback) {\n",
       "    if (css_urls == null) css_urls = [];\n",
       "    if (js_urls == null) js_urls = [];\n",
       "\n",
       "    root._bokeh_onload_callbacks.push(callback);\n",
       "    if (root._bokeh_is_loading > 0) {\n",
       "      console.debug(\"Bokeh: BokehJS is being loaded, scheduling callback at\", now());\n",
       "      return null;\n",
       "    }\n",
       "    if (js_urls == null || js_urls.length === 0) {\n",
       "      run_callbacks();\n",
       "      return null;\n",
       "    }\n",
       "    console.debug(\"Bokeh: BokehJS not loaded, scheduling load and callback at\", now());\n",
       "    root._bokeh_is_loading = css_urls.length + js_urls.length;\n",
       "\n",
       "    function on_load() {\n",
       "      root._bokeh_is_loading--;\n",
       "      if (root._bokeh_is_loading === 0) {\n",
       "        console.debug(\"Bokeh: all BokehJS libraries/stylesheets loaded\");\n",
       "        run_callbacks()\n",
       "      }\n",
       "    }\n",
       "\n",
       "    function on_error() {\n",
       "      console.error(\"failed to load \" + url);\n",
       "    }\n",
       "\n",
       "    for (var i = 0; i < css_urls.length; i++) {\n",
       "      var url = css_urls[i];\n",
       "      const element = document.createElement(\"link\");\n",
       "      element.onload = on_load;\n",
       "      element.onerror = on_error;\n",
       "      element.rel = \"stylesheet\";\n",
       "      element.type = \"text/css\";\n",
       "      element.href = url;\n",
       "      console.debug(\"Bokeh: injecting link tag for BokehJS stylesheet: \", url);\n",
       "      document.body.appendChild(element);\n",
       "    }\n",
       "\n",
       "    var skip = [];\n",
       "    if (window.requirejs) {\n",
       "      require([], function() {\n",
       "      })\n",
       "    }\n",
       "    for (var i = 0; i < js_urls.length; i++) {\n",
       "      var url = js_urls[i];\n",
       "      if (skip.indexOf(url) >= 0) { on_load(); continue; }\n",
       "      var element = document.createElement('script');\n",
       "      element.onload = on_load;\n",
       "      element.onerror = on_error;\n",
       "      element.async = false;\n",
       "      element.src = url;\n",
       "      console.debug(\"Bokeh: injecting script tag for BokehJS library: \", url);\n",
       "      document.head.appendChild(element);\n",
       "    }\n",
       "\tif (!js_urls.length) {\n",
       "      on_load()\n",
       "    }\n",
       "  };\n",
       "\n",
       "  function inject_raw_css(css) {\n",
       "    const element = document.createElement(\"style\");\n",
       "    element.appendChild(document.createTextNode(css));\n",
       "    document.body.appendChild(element);\n",
       "  }\n",
       "\n",
       "  var js_urls = [\"https://cdn.bokeh.org/bokeh/release/bokeh-2.2.3.min.js\", \"https://cdn.bokeh.org/bokeh/release/bokeh-widgets-2.2.3.min.js\", \"https://cdn.bokeh.org/bokeh/release/bokeh-tables-2.2.3.min.js\", \"https://unpkg.com/@holoviz/panel@^0.10.3/dist/panel.min.js\"];\n",
       "  var css_urls = [\"https://unpkg.com/@holoviz/panel@0.10.3/dist/css/widgets.css\", \"https://unpkg.com/@holoviz/panel@0.10.3/dist/css/alerts.css\", \"https://unpkg.com/@holoviz/panel@0.10.3/dist/css/markdown.css\", \"https://unpkg.com/@holoviz/panel@0.10.3/dist/css/dataframe.css\", \"https://unpkg.com/@holoviz/panel@0.10.3/dist/css/card.css\", \"https://unpkg.com/@holoviz/panel@0.10.3/dist/css/json.css\"];\n",
       "\n",
       "  var inline_js = [\n",
       "    function(Bokeh) {\n",
       "      Bokeh.set_log_level(\"info\");\n",
       "    },\n",
       "    function(Bokeh) {} // ensure no trailing comma for IE\n",
       "  ];\n",
       "\n",
       "  function run_inline_js() {\n",
       "    if ((root.Bokeh !== undefined) || (force === true)) {\n",
       "      for (var i = 0; i < inline_js.length; i++) {\n",
       "        inline_js[i].call(root, root.Bokeh);\n",
       "      }} else if (Date.now() < root._bokeh_timeout) {\n",
       "      setTimeout(run_inline_js, 100);\n",
       "    } else if (!root._bokeh_failed_load) {\n",
       "      console.log(\"Bokeh: BokehJS failed to load within specified timeout.\");\n",
       "      root._bokeh_failed_load = true;\n",
       "    }\n",
       "  }\n",
       "\n",
       "  if (root._bokeh_is_loading === 0) {\n",
       "    console.debug(\"Bokeh: BokehJS loaded, going straight to plotting\");\n",
       "    run_inline_js();\n",
       "  } else {\n",
       "    load_libs(css_urls, js_urls, function() {\n",
       "      console.debug(\"Bokeh: BokehJS plotting callback run at\", now());\n",
       "      run_inline_js();\n",
       "    });\n",
       "  }\n",
       "}(window));"
      ],
      "application/vnd.holoviews_load.v0+json": "\n(function(root) {\n  function now() {\n    return new Date();\n  }\n\n  var force = true;\n\n  if (typeof root._bokeh_onload_callbacks === \"undefined\" || force === true) {\n    root._bokeh_onload_callbacks = [];\n    root._bokeh_is_loading = undefined;\n  }\n\n  if (typeof (root._bokeh_timeout) === \"undefined\" || force === true) {\n    root._bokeh_timeout = Date.now() + 5000;\n    root._bokeh_failed_load = false;\n  }\n\n  function run_callbacks() {\n    try {\n      root._bokeh_onload_callbacks.forEach(function(callback) {\n        if (callback != null)\n          callback();\n      });\n    } finally {\n      delete root._bokeh_onload_callbacks\n    }\n    console.debug(\"Bokeh: all callbacks have finished\");\n  }\n\n  function load_libs(css_urls, js_urls, callback) {\n    if (css_urls == null) css_urls = [];\n    if (js_urls == null) js_urls = [];\n\n    root._bokeh_onload_callbacks.push(callback);\n    if (root._bokeh_is_loading > 0) {\n      console.debug(\"Bokeh: BokehJS is being loaded, scheduling callback at\", now());\n      return null;\n    }\n    if (js_urls == null || js_urls.length === 0) {\n      run_callbacks();\n      return null;\n    }\n    console.debug(\"Bokeh: BokehJS not loaded, scheduling load and callback at\", now());\n    root._bokeh_is_loading = css_urls.length + js_urls.length;\n\n    function on_load() {\n      root._bokeh_is_loading--;\n      if (root._bokeh_is_loading === 0) {\n        console.debug(\"Bokeh: all BokehJS libraries/stylesheets loaded\");\n        run_callbacks()\n      }\n    }\n\n    function on_error() {\n      console.error(\"failed to load \" + url);\n    }\n\n    for (var i = 0; i < css_urls.length; i++) {\n      var url = css_urls[i];\n      const element = document.createElement(\"link\");\n      element.onload = on_load;\n      element.onerror = on_error;\n      element.rel = \"stylesheet\";\n      element.type = \"text/css\";\n      element.href = url;\n      console.debug(\"Bokeh: injecting link tag for BokehJS stylesheet: \", url);\n      document.body.appendChild(element);\n    }\n\n    var skip = [];\n    if (window.requirejs) {\n      require([], function() {\n      })\n    }\n    for (var i = 0; i < js_urls.length; i++) {\n      var url = js_urls[i];\n      if (skip.indexOf(url) >= 0) { on_load(); continue; }\n      var element = document.createElement('script');\n      element.onload = on_load;\n      element.onerror = on_error;\n      element.async = false;\n      element.src = url;\n      console.debug(\"Bokeh: injecting script tag for BokehJS library: \", url);\n      document.head.appendChild(element);\n    }\n\tif (!js_urls.length) {\n      on_load()\n    }\n  };\n\n  function inject_raw_css(css) {\n    const element = document.createElement(\"style\");\n    element.appendChild(document.createTextNode(css));\n    document.body.appendChild(element);\n  }\n\n  var js_urls = [\"https://cdn.bokeh.org/bokeh/release/bokeh-2.2.3.min.js\", \"https://cdn.bokeh.org/bokeh/release/bokeh-widgets-2.2.3.min.js\", \"https://cdn.bokeh.org/bokeh/release/bokeh-tables-2.2.3.min.js\", \"https://unpkg.com/@holoviz/panel@^0.10.3/dist/panel.min.js\"];\n  var css_urls = [\"https://unpkg.com/@holoviz/panel@0.10.3/dist/css/widgets.css\", \"https://unpkg.com/@holoviz/panel@0.10.3/dist/css/alerts.css\", \"https://unpkg.com/@holoviz/panel@0.10.3/dist/css/markdown.css\", \"https://unpkg.com/@holoviz/panel@0.10.3/dist/css/dataframe.css\", \"https://unpkg.com/@holoviz/panel@0.10.3/dist/css/card.css\", \"https://unpkg.com/@holoviz/panel@0.10.3/dist/css/json.css\"];\n\n  var inline_js = [\n    function(Bokeh) {\n      Bokeh.set_log_level(\"info\");\n    },\n    function(Bokeh) {} // ensure no trailing comma for IE\n  ];\n\n  function run_inline_js() {\n    if ((root.Bokeh !== undefined) || (force === true)) {\n      for (var i = 0; i < inline_js.length; i++) {\n        inline_js[i].call(root, root.Bokeh);\n      }} else if (Date.now() < root._bokeh_timeout) {\n      setTimeout(run_inline_js, 100);\n    } else if (!root._bokeh_failed_load) {\n      console.log(\"Bokeh: BokehJS failed to load within specified timeout.\");\n      root._bokeh_failed_load = true;\n    }\n  }\n\n  if (root._bokeh_is_loading === 0) {\n    console.debug(\"Bokeh: BokehJS loaded, going straight to plotting\");\n    run_inline_js();\n  } else {\n    load_libs(css_urls, js_urls, function() {\n      console.debug(\"Bokeh: BokehJS plotting callback run at\", now());\n      run_inline_js();\n    });\n  }\n}(window));"
     },
     "metadata": {},
     "output_type": "display_data"
    },
    {
     "data": {
      "application/javascript": [
       "\n",
       "if ((window.PyViz === undefined) || (window.PyViz instanceof HTMLElement)) {\n",
       "  window.PyViz = {comms: {}, comm_status:{}, kernels:{}, receivers: {}, plot_index: []}\n",
       "}\n",
       "\n",
       "\n",
       "    function JupyterCommManager() {\n",
       "    }\n",
       "\n",
       "    JupyterCommManager.prototype.register_target = function(plot_id, comm_id, msg_handler) {\n",
       "      if (window.comm_manager || ((window.Jupyter !== undefined) && (Jupyter.notebook.kernel != null))) {\n",
       "        var comm_manager = window.comm_manager || Jupyter.notebook.kernel.comm_manager;\n",
       "        comm_manager.register_target(comm_id, function(comm) {\n",
       "          comm.on_msg(msg_handler);\n",
       "        });\n",
       "      } else if ((plot_id in window.PyViz.kernels) && (window.PyViz.kernels[plot_id])) {\n",
       "        window.PyViz.kernels[plot_id].registerCommTarget(comm_id, function(comm) {\n",
       "          comm.onMsg = msg_handler;\n",
       "        });\n",
       "      } else if (typeof google != 'undefined' && google.colab.kernel != null) {\n",
       "        google.colab.kernel.comms.registerTarget(comm_id, (comm) => {\n",
       "          var messages = comm.messages[Symbol.asyncIterator]();\n",
       "          function processIteratorResult(result) {\n",
       "            var message = result.value;\n",
       "            console.log(message)\n",
       "            var content = {data: message.data, comm_id};\n",
       "            var buffers = []\n",
       "            for (var buffer of message.buffers || []) {\n",
       "              buffers.push(new DataView(buffer))\n",
       "            }\n",
       "            var metadata = message.metadata || {};\n",
       "            var msg = {content, buffers, metadata}\n",
       "            msg_handler(msg);\n",
       "            return messages.next().then(processIteratorResult);\n",
       "          }\n",
       "          return messages.next().then(processIteratorResult);\n",
       "        })\n",
       "      }\n",
       "    }\n",
       "\n",
       "    JupyterCommManager.prototype.get_client_comm = function(plot_id, comm_id, msg_handler) {\n",
       "      if (comm_id in window.PyViz.comms) {\n",
       "        return window.PyViz.comms[comm_id];\n",
       "      } else if (window.comm_manager || ((window.Jupyter !== undefined) && (Jupyter.notebook.kernel != null))) {\n",
       "        var comm_manager = window.comm_manager || Jupyter.notebook.kernel.comm_manager;\n",
       "        var comm = comm_manager.new_comm(comm_id, {}, {}, {}, comm_id);\n",
       "        if (msg_handler) {\n",
       "          comm.on_msg(msg_handler);\n",
       "        }\n",
       "      } else if ((plot_id in window.PyViz.kernels) && (window.PyViz.kernels[plot_id])) {\n",
       "        var comm = window.PyViz.kernels[plot_id].connectToComm(comm_id);\n",
       "        comm.open();\n",
       "        if (msg_handler) {\n",
       "          comm.onMsg = msg_handler;\n",
       "        }\n",
       "      } else if (typeof google != 'undefined' && google.colab.kernel != null) {\n",
       "        var comm_promise = google.colab.kernel.comms.open(comm_id)\n",
       "        comm_promise.then((comm) => {\n",
       "          window.PyViz.comms[comm_id] = comm;\n",
       "          if (msg_handler) {\n",
       "            var messages = comm.messages[Symbol.asyncIterator]();\n",
       "            function processIteratorResult(result) {\n",
       "              var message = result.value;\n",
       "              var content = {data: message.data};\n",
       "              var metadata = message.metadata || {comm_id};\n",
       "              var msg = {content, metadata}\n",
       "              msg_handler(msg);\n",
       "              return messages.next().then(processIteratorResult);\n",
       "            }\n",
       "            return messages.next().then(processIteratorResult);\n",
       "          }\n",
       "        }) \n",
       "        var sendClosure = (data, metadata, buffers, disposeOnDone) => {\n",
       "          return comm_promise.then((comm) => {\n",
       "            comm.send(data, metadata, buffers, disposeOnDone);\n",
       "          });\n",
       "        };\n",
       "        var comm = {\n",
       "          send: sendClosure\n",
       "        };\n",
       "      }\n",
       "      window.PyViz.comms[comm_id] = comm;\n",
       "      return comm;\n",
       "    }\n",
       "    window.PyViz.comm_manager = new JupyterCommManager();\n",
       "    \n",
       "\n",
       "\n",
       "var JS_MIME_TYPE = 'application/javascript';\n",
       "var HTML_MIME_TYPE = 'text/html';\n",
       "var EXEC_MIME_TYPE = 'application/vnd.holoviews_exec.v0+json';\n",
       "var CLASS_NAME = 'output';\n",
       "\n",
       "/**\n",
       " * Render data to the DOM node\n",
       " */\n",
       "function render(props, node) {\n",
       "  var div = document.createElement(\"div\");\n",
       "  var script = document.createElement(\"script\");\n",
       "  node.appendChild(div);\n",
       "  node.appendChild(script);\n",
       "}\n",
       "\n",
       "/**\n",
       " * Handle when a new output is added\n",
       " */\n",
       "function handle_add_output(event, handle) {\n",
       "  var output_area = handle.output_area;\n",
       "  var output = handle.output;\n",
       "  if ((output.data == undefined) || (!output.data.hasOwnProperty(EXEC_MIME_TYPE))) {\n",
       "    return\n",
       "  }\n",
       "  var id = output.metadata[EXEC_MIME_TYPE][\"id\"];\n",
       "  var toinsert = output_area.element.find(\".\" + CLASS_NAME.split(' ')[0]);\n",
       "  if (id !== undefined) {\n",
       "    var nchildren = toinsert.length;\n",
       "    var html_node = toinsert[nchildren-1].children[0];\n",
       "    html_node.innerHTML = output.data[HTML_MIME_TYPE];\n",
       "    var scripts = [];\n",
       "    var nodelist = html_node.querySelectorAll(\"script\");\n",
       "    for (var i in nodelist) {\n",
       "      if (nodelist.hasOwnProperty(i)) {\n",
       "        scripts.push(nodelist[i])\n",
       "      }\n",
       "    }\n",
       "\n",
       "    scripts.forEach( function (oldScript) {\n",
       "      var newScript = document.createElement(\"script\");\n",
       "      var attrs = [];\n",
       "      var nodemap = oldScript.attributes;\n",
       "      for (var j in nodemap) {\n",
       "        if (nodemap.hasOwnProperty(j)) {\n",
       "          attrs.push(nodemap[j])\n",
       "        }\n",
       "      }\n",
       "      attrs.forEach(function(attr) { newScript.setAttribute(attr.name, attr.value) });\n",
       "      newScript.appendChild(document.createTextNode(oldScript.innerHTML));\n",
       "      oldScript.parentNode.replaceChild(newScript, oldScript);\n",
       "    });\n",
       "    if (JS_MIME_TYPE in output.data) {\n",
       "      toinsert[nchildren-1].children[1].textContent = output.data[JS_MIME_TYPE];\n",
       "    }\n",
       "    output_area._hv_plot_id = id;\n",
       "    if ((window.Bokeh !== undefined) && (id in Bokeh.index)) {\n",
       "      window.PyViz.plot_index[id] = Bokeh.index[id];\n",
       "    } else {\n",
       "      window.PyViz.plot_index[id] = null;\n",
       "    }\n",
       "  } else if (output.metadata[EXEC_MIME_TYPE][\"server_id\"] !== undefined) {\n",
       "    var bk_div = document.createElement(\"div\");\n",
       "    bk_div.innerHTML = output.data[HTML_MIME_TYPE];\n",
       "    var script_attrs = bk_div.children[0].attributes;\n",
       "    for (var i = 0; i < script_attrs.length; i++) {\n",
       "      toinsert[toinsert.length - 1].childNodes[1].setAttribute(script_attrs[i].name, script_attrs[i].value);\n",
       "    }\n",
       "    // store reference to server id on output_area\n",
       "    output_area._bokeh_server_id = output.metadata[EXEC_MIME_TYPE][\"server_id\"];\n",
       "  }\n",
       "}\n",
       "\n",
       "/**\n",
       " * Handle when an output is cleared or removed\n",
       " */\n",
       "function handle_clear_output(event, handle) {\n",
       "  var id = handle.cell.output_area._hv_plot_id;\n",
       "  var server_id = handle.cell.output_area._bokeh_server_id;\n",
       "  if (((id === undefined) || !(id in PyViz.plot_index)) && (server_id !== undefined)) { return; }\n",
       "  var comm = window.PyViz.comm_manager.get_client_comm(\"hv-extension-comm\", \"hv-extension-comm\", function () {});\n",
       "  if (server_id !== null) {\n",
       "    comm.send({event_type: 'server_delete', 'id': server_id});\n",
       "    return;\n",
       "  } else if (comm !== null) {\n",
       "    comm.send({event_type: 'delete', 'id': id});\n",
       "  }\n",
       "  delete PyViz.plot_index[id];\n",
       "  if ((window.Bokeh !== undefined) & (id in window.Bokeh.index)) {\n",
       "    var doc = window.Bokeh.index[id].model.document\n",
       "    doc.clear();\n",
       "    const i = window.Bokeh.documents.indexOf(doc);\n",
       "    if (i > -1) {\n",
       "      window.Bokeh.documents.splice(i, 1);\n",
       "    }\n",
       "  }\n",
       "}\n",
       "\n",
       "/**\n",
       " * Handle kernel restart event\n",
       " */\n",
       "function handle_kernel_cleanup(event, handle) {\n",
       "  delete PyViz.comms[\"hv-extension-comm\"];\n",
       "  window.PyViz.plot_index = {}\n",
       "}\n",
       "\n",
       "/**\n",
       " * Handle update_display_data messages\n",
       " */\n",
       "function handle_update_output(event, handle) {\n",
       "  handle_clear_output(event, {cell: {output_area: handle.output_area}})\n",
       "  handle_add_output(event, handle)\n",
       "}\n",
       "\n",
       "function register_renderer(events, OutputArea) {\n",
       "  function append_mime(data, metadata, element) {\n",
       "    // create a DOM node to render to\n",
       "    var toinsert = this.create_output_subarea(\n",
       "    metadata,\n",
       "    CLASS_NAME,\n",
       "    EXEC_MIME_TYPE\n",
       "    );\n",
       "    this.keyboard_manager.register_events(toinsert);\n",
       "    // Render to node\n",
       "    var props = {data: data, metadata: metadata[EXEC_MIME_TYPE]};\n",
       "    render(props, toinsert[0]);\n",
       "    element.append(toinsert);\n",
       "    return toinsert\n",
       "  }\n",
       "\n",
       "  events.on('output_added.OutputArea', handle_add_output);\n",
       "  events.on('output_updated.OutputArea', handle_update_output);\n",
       "  events.on('clear_output.CodeCell', handle_clear_output);\n",
       "  events.on('delete.Cell', handle_clear_output);\n",
       "  events.on('kernel_ready.Kernel', handle_kernel_cleanup);\n",
       "\n",
       "  OutputArea.prototype.register_mime_type(EXEC_MIME_TYPE, append_mime, {\n",
       "    safe: true,\n",
       "    index: 0\n",
       "  });\n",
       "}\n",
       "\n",
       "if (window.Jupyter !== undefined) {\n",
       "  try {\n",
       "    var events = require('base/js/events');\n",
       "    var OutputArea = require('notebook/js/outputarea').OutputArea;\n",
       "    if (OutputArea.prototype.mime_types().indexOf(EXEC_MIME_TYPE) == -1) {\n",
       "      register_renderer(events, OutputArea);\n",
       "    }\n",
       "  } catch(err) {\n",
       "  }\n",
       "}\n"
      ],
      "application/vnd.holoviews_load.v0+json": "\nif ((window.PyViz === undefined) || (window.PyViz instanceof HTMLElement)) {\n  window.PyViz = {comms: {}, comm_status:{}, kernels:{}, receivers: {}, plot_index: []}\n}\n\n\n    function JupyterCommManager() {\n    }\n\n    JupyterCommManager.prototype.register_target = function(plot_id, comm_id, msg_handler) {\n      if (window.comm_manager || ((window.Jupyter !== undefined) && (Jupyter.notebook.kernel != null))) {\n        var comm_manager = window.comm_manager || Jupyter.notebook.kernel.comm_manager;\n        comm_manager.register_target(comm_id, function(comm) {\n          comm.on_msg(msg_handler);\n        });\n      } else if ((plot_id in window.PyViz.kernels) && (window.PyViz.kernels[plot_id])) {\n        window.PyViz.kernels[plot_id].registerCommTarget(comm_id, function(comm) {\n          comm.onMsg = msg_handler;\n        });\n      } else if (typeof google != 'undefined' && google.colab.kernel != null) {\n        google.colab.kernel.comms.registerTarget(comm_id, (comm) => {\n          var messages = comm.messages[Symbol.asyncIterator]();\n          function processIteratorResult(result) {\n            var message = result.value;\n            console.log(message)\n            var content = {data: message.data, comm_id};\n            var buffers = []\n            for (var buffer of message.buffers || []) {\n              buffers.push(new DataView(buffer))\n            }\n            var metadata = message.metadata || {};\n            var msg = {content, buffers, metadata}\n            msg_handler(msg);\n            return messages.next().then(processIteratorResult);\n          }\n          return messages.next().then(processIteratorResult);\n        })\n      }\n    }\n\n    JupyterCommManager.prototype.get_client_comm = function(plot_id, comm_id, msg_handler) {\n      if (comm_id in window.PyViz.comms) {\n        return window.PyViz.comms[comm_id];\n      } else if (window.comm_manager || ((window.Jupyter !== undefined) && (Jupyter.notebook.kernel != null))) {\n        var comm_manager = window.comm_manager || Jupyter.notebook.kernel.comm_manager;\n        var comm = comm_manager.new_comm(comm_id, {}, {}, {}, comm_id);\n        if (msg_handler) {\n          comm.on_msg(msg_handler);\n        }\n      } else if ((plot_id in window.PyViz.kernels) && (window.PyViz.kernels[plot_id])) {\n        var comm = window.PyViz.kernels[plot_id].connectToComm(comm_id);\n        comm.open();\n        if (msg_handler) {\n          comm.onMsg = msg_handler;\n        }\n      } else if (typeof google != 'undefined' && google.colab.kernel != null) {\n        var comm_promise = google.colab.kernel.comms.open(comm_id)\n        comm_promise.then((comm) => {\n          window.PyViz.comms[comm_id] = comm;\n          if (msg_handler) {\n            var messages = comm.messages[Symbol.asyncIterator]();\n            function processIteratorResult(result) {\n              var message = result.value;\n              var content = {data: message.data};\n              var metadata = message.metadata || {comm_id};\n              var msg = {content, metadata}\n              msg_handler(msg);\n              return messages.next().then(processIteratorResult);\n            }\n            return messages.next().then(processIteratorResult);\n          }\n        }) \n        var sendClosure = (data, metadata, buffers, disposeOnDone) => {\n          return comm_promise.then((comm) => {\n            comm.send(data, metadata, buffers, disposeOnDone);\n          });\n        };\n        var comm = {\n          send: sendClosure\n        };\n      }\n      window.PyViz.comms[comm_id] = comm;\n      return comm;\n    }\n    window.PyViz.comm_manager = new JupyterCommManager();\n    \n\n\nvar JS_MIME_TYPE = 'application/javascript';\nvar HTML_MIME_TYPE = 'text/html';\nvar EXEC_MIME_TYPE = 'application/vnd.holoviews_exec.v0+json';\nvar CLASS_NAME = 'output';\n\n/**\n * Render data to the DOM node\n */\nfunction render(props, node) {\n  var div = document.createElement(\"div\");\n  var script = document.createElement(\"script\");\n  node.appendChild(div);\n  node.appendChild(script);\n}\n\n/**\n * Handle when a new output is added\n */\nfunction handle_add_output(event, handle) {\n  var output_area = handle.output_area;\n  var output = handle.output;\n  if ((output.data == undefined) || (!output.data.hasOwnProperty(EXEC_MIME_TYPE))) {\n    return\n  }\n  var id = output.metadata[EXEC_MIME_TYPE][\"id\"];\n  var toinsert = output_area.element.find(\".\" + CLASS_NAME.split(' ')[0]);\n  if (id !== undefined) {\n    var nchildren = toinsert.length;\n    var html_node = toinsert[nchildren-1].children[0];\n    html_node.innerHTML = output.data[HTML_MIME_TYPE];\n    var scripts = [];\n    var nodelist = html_node.querySelectorAll(\"script\");\n    for (var i in nodelist) {\n      if (nodelist.hasOwnProperty(i)) {\n        scripts.push(nodelist[i])\n      }\n    }\n\n    scripts.forEach( function (oldScript) {\n      var newScript = document.createElement(\"script\");\n      var attrs = [];\n      var nodemap = oldScript.attributes;\n      for (var j in nodemap) {\n        if (nodemap.hasOwnProperty(j)) {\n          attrs.push(nodemap[j])\n        }\n      }\n      attrs.forEach(function(attr) { newScript.setAttribute(attr.name, attr.value) });\n      newScript.appendChild(document.createTextNode(oldScript.innerHTML));\n      oldScript.parentNode.replaceChild(newScript, oldScript);\n    });\n    if (JS_MIME_TYPE in output.data) {\n      toinsert[nchildren-1].children[1].textContent = output.data[JS_MIME_TYPE];\n    }\n    output_area._hv_plot_id = id;\n    if ((window.Bokeh !== undefined) && (id in Bokeh.index)) {\n      window.PyViz.plot_index[id] = Bokeh.index[id];\n    } else {\n      window.PyViz.plot_index[id] = null;\n    }\n  } else if (output.metadata[EXEC_MIME_TYPE][\"server_id\"] !== undefined) {\n    var bk_div = document.createElement(\"div\");\n    bk_div.innerHTML = output.data[HTML_MIME_TYPE];\n    var script_attrs = bk_div.children[0].attributes;\n    for (var i = 0; i < script_attrs.length; i++) {\n      toinsert[toinsert.length - 1].childNodes[1].setAttribute(script_attrs[i].name, script_attrs[i].value);\n    }\n    // store reference to server id on output_area\n    output_area._bokeh_server_id = output.metadata[EXEC_MIME_TYPE][\"server_id\"];\n  }\n}\n\n/**\n * Handle when an output is cleared or removed\n */\nfunction handle_clear_output(event, handle) {\n  var id = handle.cell.output_area._hv_plot_id;\n  var server_id = handle.cell.output_area._bokeh_server_id;\n  if (((id === undefined) || !(id in PyViz.plot_index)) && (server_id !== undefined)) { return; }\n  var comm = window.PyViz.comm_manager.get_client_comm(\"hv-extension-comm\", \"hv-extension-comm\", function () {});\n  if (server_id !== null) {\n    comm.send({event_type: 'server_delete', 'id': server_id});\n    return;\n  } else if (comm !== null) {\n    comm.send({event_type: 'delete', 'id': id});\n  }\n  delete PyViz.plot_index[id];\n  if ((window.Bokeh !== undefined) & (id in window.Bokeh.index)) {\n    var doc = window.Bokeh.index[id].model.document\n    doc.clear();\n    const i = window.Bokeh.documents.indexOf(doc);\n    if (i > -1) {\n      window.Bokeh.documents.splice(i, 1);\n    }\n  }\n}\n\n/**\n * Handle kernel restart event\n */\nfunction handle_kernel_cleanup(event, handle) {\n  delete PyViz.comms[\"hv-extension-comm\"];\n  window.PyViz.plot_index = {}\n}\n\n/**\n * Handle update_display_data messages\n */\nfunction handle_update_output(event, handle) {\n  handle_clear_output(event, {cell: {output_area: handle.output_area}})\n  handle_add_output(event, handle)\n}\n\nfunction register_renderer(events, OutputArea) {\n  function append_mime(data, metadata, element) {\n    // create a DOM node to render to\n    var toinsert = this.create_output_subarea(\n    metadata,\n    CLASS_NAME,\n    EXEC_MIME_TYPE\n    );\n    this.keyboard_manager.register_events(toinsert);\n    // Render to node\n    var props = {data: data, metadata: metadata[EXEC_MIME_TYPE]};\n    render(props, toinsert[0]);\n    element.append(toinsert);\n    return toinsert\n  }\n\n  events.on('output_added.OutputArea', handle_add_output);\n  events.on('output_updated.OutputArea', handle_update_output);\n  events.on('clear_output.CodeCell', handle_clear_output);\n  events.on('delete.Cell', handle_clear_output);\n  events.on('kernel_ready.Kernel', handle_kernel_cleanup);\n\n  OutputArea.prototype.register_mime_type(EXEC_MIME_TYPE, append_mime, {\n    safe: true,\n    index: 0\n  });\n}\n\nif (window.Jupyter !== undefined) {\n  try {\n    var events = require('base/js/events');\n    var OutputArea = require('notebook/js/outputarea').OutputArea;\n    if (OutputArea.prototype.mime_types().indexOf(EXEC_MIME_TYPE) == -1) {\n      register_renderer(events, OutputArea);\n    }\n  } catch(err) {\n  }\n}\n"
     },
     "metadata": {},
     "output_type": "display_data"
    }
   ],
   "source": [
    "import glob\n",
    "import os\n",
    "import sys\n",
    "# This path may need altering, or the entire command may be unnecessary.\n",
    "sys.path.append(os.path.expanduser('~/anaconda3/share/qgis/python'))\n",
    "import qgis.core as qc\n",
    "import qgis.gui as qg\n",
    "from datetime import datetime\n",
    "import panel as pn\n",
    "pn.extension()"
   ]
  },
  {
   "cell_type": "markdown",
   "id": "neither-brunswick",
   "metadata": {},
   "source": [
    "## Other Code"
   ]
  },
  {
   "cell_type": "markdown",
   "id": "editorial-aquatic",
   "metadata": {},
   "source": [
    "See **NSIDCLoginNotebook** for more detail on installing the *GIMP* respository (https://github.com/fastice/gimpfunc.git). If the location of the repository is not in your python path, edit the `sys.path.append` argument below to point to the location where the code exists."
   ]
  },
  {
   "cell_type": "code",
   "execution_count": 5,
   "id": "protecting-palestinian",
   "metadata": {},
   "outputs": [],
   "source": [
    "#!git clone https:.... desiredpath/gimpfunc\n",
    "#sys.path.append('desiredpath/gimpfunc')\n",
    "import gimpfunc as gimp"
   ]
  },
  {
   "cell_type": "markdown",
   "id": "played-implement",
   "metadata": {},
   "source": [
    "## Search for Data"
   ]
  },
  {
   "cell_type": "markdown",
   "id": "alien-spring",
   "metadata": {},
   "source": [
    "Running the cell below will pull up a panel that allows search for products at NISDC. Products can be filter by date range and subsets of some products can be specified (e.g., velcoity or velocity with errors). Selecting a new product, will append the result to the prior search. Select a product family by pressing the appropriate button (e.g., *NSIDC-0723*), set the filter paramers and date range (default is all dates). Then press *GetData* to execute the search. The search results will be pre-pended to the result from any prior search. To start over, press *ClearSearch* to remove the entire search history. Once the search is complete, the results are saved in `myUrls`, which is used in the steps below. "
   ]
  },
  {
   "cell_type": "code",
   "execution_count": 6,
   "id": "amended-saying",
   "metadata": {},
   "outputs": [
    {
     "data": {},
     "metadata": {},
     "output_type": "display_data"
    },
    {
     "data": {
      "application/vnd.holoviews_exec.v0+json": "",
      "text/html": [
       "<div id='1563'>\n",
       "\n",
       "\n",
       "\n",
       "\n",
       "\n",
       "  <div class=\"bk-root\" id=\"d3fdde24-eeab-4cf5-b759-078c474507bd\" data-root-id=\"1563\"></div>\n",
       "</div>\n",
       "<script type=\"application/javascript\">(function(root) {\n",
       "  function embed_document(root) {\n",
       "    var docs_json = {\"c22e8b77-6274-49a4-a4dc-832a9173303a\":{\"roots\":{\"references\":[{\"attributes\":{\"margin\":[5,10,5,10],\"title\":\"FirstDate\",\"value\":\"2000-01-01\"},\"id\":\"1570\",\"type\":\"DatePicker\"},{\"attributes\":{\"data\":{\"index\":[]},\"selected\":{\"id\":\"1596\"},\"selection_policy\":{\"id\":\"1601\"}},\"id\":\"1587\",\"type\":\"ColumnDataSource\"},{\"attributes\":{\"active\":1,\"labels\":[\"NSIDC-0642\",\"NSIDC-0723\",\"NSIDC-0725\",\"NSIDC-0727\",\"NSIDC-0731\",\"NSIDC-0481\"],\"margin\":[5,10,5,10]},\"id\":\"1568\",\"type\":\"RadioButtonGroup\"},{\"attributes\":{\"css_classes\":[\"markdown\"],\"margin\":[5,5,5,5],\"name\":\"Markdown00168\",\"text\":\"&lt;p&gt;&lt;strong&gt;Product Key:&lt;/strong&gt;&lt;br/&gt;\\n- &lt;strong&gt;NSIDC-0642:&lt;/strong&gt; Terminus Locations&lt;br/&gt;\\n- &lt;strong&gt;NSIDC-0723:&lt;/strong&gt; S1A/B Image Mosaics&lt;br/&gt;\\n- &lt;strong&gt;NSIDC-0725:&lt;/strong&gt; Annual Velocity&lt;/p&gt;\"},\"id\":\"1583\",\"type\":\"panel.models.markup.HTML\"},{\"attributes\":{},\"id\":\"1588\",\"type\":\"StringFormatter\"},{\"attributes\":{\"icon\":null,\"label\":\"Search\",\"margin\":[5,10,5,10],\"subscribed_events\":[\"button_click\"]},\"id\":\"1572\",\"type\":\"Button\"},{\"attributes\":{\"css_classes\":[\"markdown\"],\"margin\":[5,5,5,5],\"name\":\"Markdown00207\",\"text\":\"&lt;h3&gt;0 New Products&lt;/h3&gt;\\n&lt;h3&gt;0 Total Products&lt;/h3&gt;\"},\"id\":\"1598\",\"type\":\"panel.models.markup.HTML\"},{\"attributes\":{\"css_classes\":[\"markdown\"],\"margin\":[5,5,5,5],\"name\":\"Markdown00166\",\"text\":\"&lt;h3&gt;Instructions:&lt;/h3&gt;\\n&lt;ul&gt;\\n&lt;li&gt;Select a product, filter (e.g., speed), and date, and bounds&lt;/li&gt;\\n&lt;li&gt;Press Search to find products,&lt;/li&gt;\\n&lt;li&gt;Repeat procedure to append additional products.&lt;/li&gt;\\n&lt;li&gt;Press Clear to remove all results and start over&lt;/li&gt;\\n&lt;/ul&gt;\"},\"id\":\"1565\",\"type\":\"panel.models.markup.HTML\"},{\"attributes\":{\"children\":[{\"id\":\"1567\"},{\"id\":\"1568\"},{\"id\":\"1569\"},{\"id\":\"1570\"},{\"id\":\"1571\"},{\"id\":\"1572\"},{\"id\":\"1573\"}],\"margin\":[5,5,5,5],\"min_width\":600,\"name\":\"Select Product & Parameters\",\"width\":600},\"id\":\"1566\",\"type\":\"Column\"},{\"attributes\":{\"children\":[{\"id\":\"1600\"}],\"margin\":[0,0,0,0],\"name\":\"Row00215\"},\"id\":\"1599\",\"type\":\"Row\"},{\"attributes\":{\"children\":[{\"id\":\"1577\"},{\"id\":\"1578\"}],\"margin\":[0,0,0,0],\"name\":\"Row00189\"},\"id\":\"1576\",\"type\":\"Row\"},{\"attributes\":{},\"id\":\"1596\",\"type\":\"Selection\"},{\"attributes\":{\"client_comm_id\":\"77b4b6d6a8634d4f85e97e9fbb68808a\",\"comm_id\":\"11ef1345423947f6a95fa9999570c3ca\",\"plot_id\":\"1563\"},\"id\":\"1607\",\"type\":\"panel.models.comm_manager.CommManager\"},{\"attributes\":{},\"id\":\"1601\",\"type\":\"UnionRenderers\"},{\"attributes\":{\"children\":[{\"id\":\"1576\"},{\"id\":\"1579\"}],\"margin\":[0,0,0,0],\"name\":\"Column00191\"},\"id\":\"1575\",\"type\":\"Column\"},{\"attributes\":{\"source\":{\"id\":\"1587\"}},\"id\":\"1595\",\"type\":\"CDSView\"},{\"attributes\":{\"margin\":[5,10,5,10],\"options\":[[\"image\",\"image\"],[\"gamma0\",\"gamma0\"],[\"sigma0\",\"sigma0\"]],\"title\":\"ProductFilter\",\"value\":\"image\"},\"id\":\"1569\",\"type\":\"Select\"},{\"attributes\":{\"children\":[{\"id\":\"1580\"},{\"id\":\"1581\"}],\"margin\":[0,0,0,0],\"name\":\"Row00190\"},\"id\":\"1579\",\"type\":\"Row\"},{\"attributes\":{\"children\":[{\"id\":\"1598\"}],\"margin\":[0,0,0,0],\"name\":\"Row00206\"},\"id\":\"1597\",\"type\":\"Row\"},{\"attributes\":{\"children\":[{\"id\":\"1565\"},{\"id\":\"1566\"},{\"id\":\"1574\"},{\"id\":\"1575\"},{\"id\":\"1582\"}],\"margin\":[0,0,0,0],\"min_width\":600,\"name\":\"Column00195\"},\"id\":\"1564\",\"type\":\"Column\"},{\"attributes\":{},\"id\":\"1590\",\"type\":\"CellEditor\"},{\"attributes\":{\"children\":[{\"id\":\"1586\"},{\"id\":\"1597\"},{\"id\":\"1599\"}],\"margin\":[0,0,0,0],\"name\":\"Column00220\"},\"id\":\"1585\",\"type\":\"Column\"},{\"attributes\":{\"css_classes\":[\"markdown\"],\"margin\":[5,5,5,5],\"name\":\"Markdown00192\",\"text\":\"&lt;h3&gt;Search Area (NSIDC-481 only)&lt;/h3&gt;\"},\"id\":\"1574\",\"type\":\"panel.models.markup.HTML\"},{\"attributes\":{\"css_classes\":[\"markdown\"],\"margin\":[5,5,5,5],\"name\":\"Markdown00216\",\"text\":\"&lt;p&gt;debug Init&lt;/p&gt;\"},\"id\":\"1600\",\"type\":\"panel.models.markup.HTML\"},{\"attributes\":{\"children\":[{\"id\":\"1583\"},{\"id\":\"1584\"}],\"margin\":[0,0,0,0],\"name\":\"Row00194\"},\"id\":\"1582\",\"type\":\"Row\"},{\"attributes\":{\"css_classes\":[\"markdown\"],\"margin\":[5,5,5,5],\"name\":\"Markdown00170\",\"text\":\"&lt;p&gt;&lt;br/&gt;\\n- &lt;strong&gt;NSIDC-0727:&lt;/strong&gt; Quarterly Velocity&lt;br/&gt;\\n- &lt;strong&gt;NSIDC-0731:&lt;/strong&gt; Monthly Velocity&lt;br/&gt;\\n- &lt;strong&gt;NSIDC-0481:&lt;/strong&gt; TSX Individual Glacier Velocity&lt;br/&gt;&lt;/p&gt;\"},\"id\":\"1584\",\"type\":\"panel.models.markup.HTML\"},{\"attributes\":{\"disabled\":true,\"end\":82,\"format\":\"0[.]00\",\"margin\":[5,10,5,10],\"start\":60,\"step\":0.1,\"title\":\"Lat min\",\"value\":60,\"value_throttled\":60},\"id\":\"1577\",\"type\":\"Slider\"},{\"attributes\":{\"autosize_mode\":\"fit_columns\",\"columns\":[{\"id\":\"1591\"}],\"editable\":true,\"height\":600,\"index_position\":null,\"margin\":[5,10,5,10],\"name\":\"\",\"source\":{\"id\":\"1587\"},\"view\":{\"id\":\"1595\"}},\"id\":\"1594\",\"type\":\"DataTable\"},{\"attributes\":{\"disabled\":true,\"end\":-5,\"format\":\"0[.]00\",\"margin\":[5,10,5,10],\"start\":-75,\"step\":0.1,\"title\":\"Lon min\",\"value\":-75,\"value_throttled\":-75},\"id\":\"1580\",\"type\":\"Slider\"},{\"attributes\":{\"children\":[{\"id\":\"1594\"}],\"margin\":[0,0,0,0],\"name\":\"Row00200\"},\"id\":\"1586\",\"type\":\"Row\"},{\"attributes\":{\"disabled\":true,\"end\":82,\"format\":\"0[.]00\",\"margin\":[5,10,5,10],\"start\":61,\"step\":0.1,\"title\":\"Lat max\",\"value\":82,\"value_throttled\":82},\"id\":\"1578\",\"type\":\"Slider\"},{\"attributes\":{\"children\":[{\"id\":\"1564\"},{\"id\":\"1585\"}],\"margin\":[0,0,0,0],\"name\":\"Row00221\"},\"id\":\"1563\",\"type\":\"Row\"},{\"attributes\":{\"editor\":{\"id\":\"1590\"},\"field\":\"index\",\"formatter\":{\"id\":\"1588\"},\"title\":\"index\"},\"id\":\"1591\",\"type\":\"TableColumn\"},{\"attributes\":{\"icon\":null,\"label\":\"Clear\",\"margin\":[5,10,5,10],\"subscribed_events\":[\"button_click\"]},\"id\":\"1573\",\"type\":\"Button\"},{\"attributes\":{\"disabled\":true,\"end\":-5,\"format\":\"0[.]00\",\"margin\":[5,10,5,10],\"start\":-74,\"step\":0.1,\"title\":\"Lon max\",\"value\":-5,\"value_throttled\":-5},\"id\":\"1581\",\"type\":\"Slider\"},{\"attributes\":{\"margin\":[5,10,5,10],\"title\":\"LastDate\",\"value\":\"2021-04-06\"},\"id\":\"1571\",\"type\":\"DatePicker\"},{\"attributes\":{\"margin\":[5,10,5,10],\"name\":\"\",\"text\":\"<b>Select Product & Parameters</b>\"},\"id\":\"1567\",\"type\":\"Div\"}],\"root_ids\":[\"1563\",\"1607\"]},\"title\":\"Bokeh Application\",\"version\":\"2.2.3\"}};\n",
       "    var render_items = [{\"docid\":\"c22e8b77-6274-49a4-a4dc-832a9173303a\",\"root_ids\":[\"1563\"],\"roots\":{\"1563\":\"d3fdde24-eeab-4cf5-b759-078c474507bd\"}}];\n",
       "    root.Bokeh.embed.embed_items_notebook(docs_json, render_items);\n",
       "  }\n",
       "  if (root.Bokeh !== undefined && root.Bokeh.Panel !== undefined) {\n",
       "    embed_document(root);\n",
       "  } else {\n",
       "    var attempts = 0;\n",
       "    var timer = setInterval(function(root) {\n",
       "      if (root.Bokeh !== undefined && root.Bokeh.Panel !== undefined) {\n",
       "        clearInterval(timer);\n",
       "        embed_document(root);\n",
       "      } else if (document.readyState == \"complete\") {\n",
       "        attempts++;\n",
       "        if (attempts > 100) {\n",
       "          clearInterval(timer);\n",
       "          console.log(\"Bokeh: ERROR: Unable to run BokehJS code because BokehJS library is missing\");\n",
       "        }\n",
       "      }\n",
       "    }, 10, root)\n",
       "  }\n",
       "})(window);</script>"
      ],
      "text/plain": [
       "Row\n",
       "    [0] Column(min_width=600)\n",
       "        [0] Markdown(str)\n",
       "        [1] Param(cmrUrls, name='Select Product &..., widgets={'product': <class 'panel....}, width=600)\n",
       "        [2] Markdown(str)\n",
       "        [3] Column\n",
       "            [0] Row\n",
       "                [0] FloatSlider(disabled=True, end=82, name='Lat min', start=60, value=60, value_throttled=60)\n",
       "                [1] FloatSlider(disabled=True, end=82, name='Lat max', start=61, value=82, value_throttled=82)\n",
       "            [1] Row\n",
       "                [0] FloatSlider(disabled=True, end=-5, name='Lon min', start=-75, value=-75, value_throttled=-75)\n",
       "                [1] FloatSlider(disabled=True, end=-5, name='Lon max', start=-74, value=-5, value_throttled=-5)\n",
       "        [4] Row\n",
       "            [0] Markdown(str)\n",
       "            [1] Markdown(str)\n",
       "    [1] Column\n",
       "        [0] ParamMethod(method)\n",
       "        [1] ParamMethod(method)\n",
       "        [2] ParamMethod(method)"
      ]
     },
     "execution_count": 6,
     "metadata": {
      "application/vnd.holoviews_exec.v0+json": {
       "id": "1563"
      }
     },
     "output_type": "execute_result"
    }
   ],
   "source": [
    "myUrls = gimp.cmrUrls()\n",
    "myUrls.view()"
   ]
  },
  {
   "cell_type": "markdown",
   "id": "conservative-finance",
   "metadata": {},
   "source": [
    "## Product Hierarchy for QGIS"
   ]
  },
  {
   "cell_type": "markdown",
   "id": "permanent-dance",
   "metadata": {},
   "source": [
    "Products are saved in a QGIS project with the following hierarchy.\n",
    "* **Category** (optional, e.g., Velocity or Images) \n",
    "    * **Product Family1** (e.g., annualVelocity, NSIDC0725)\n",
    "        * **Year** (optional)\n",
    "            * **ProductPrefix-YYYY-mm-dd.YYYY-mm-dd (e.g., Vel-2020-01-01.Vel-2020-01-06)**\n",
    "                * **band1** (e.g., browse, vx, vy)\n",
    "                * **band2**\n",
    "                * **...**\n",
    "    * **Product Family 2**\n",
    "        * **ProductPrefix-band-YYYY-mm-dd.YYY-mm-dd** (example with only one band, e.g., sigma0)\n",
    "        * **ProductPrefix-band-YYYY-mm-dd.YYY-mm-dd**\n",
    "        **...**\n",
    "        \n",
    "A `productFamily` represents collection of products of the same type such as annual velocity (NSIDC-0725) mosaics or SAR image mosaics (NSIDC-0723) that are grouped together in QGIS project. Different product families can be established for the same produce line. For example, for the SAR mosaics the **image** products could saved under a product family called images and $\\gamma_o$ products could be saved under **gamma0**. Several product families may be grouped under a `Category` such as **Velocity** or **Images**. \n",
    "\n",
    "Each product can have a single (e.g,. *v*) or multiple bands (*v*, *vx*, and *vy*). For a single-band product family, the results are saved as `ProductPrefix`-`band`**-YYYY-mm-dd.YYY-mm-dd**. If the product has only a single date, the second date string is ommitted. Multi-band products are grouped together with the name `ProductPrefix`**-YYYY-mm-dd.YYYY-mm-dd**. Each **band** is then saved under its band name (e.g., *vx* and *vy*).\n",
    "\n",
    "The `Category`, `productFamily`, and `productPrefix` are completely user selectable. The `band` names are those used in the product names, but the user can choose which bands are selected.\n",
    "\n",
    "By default the products under a product family are organized by year. This feature can be turned off with `byYear=False`. \n",
    "\n",
    "The products for each family should all be of the same *type*. Currently supported types are *tif* and *shp*.\n",
    "\n",
    "An archive search as carried out above returns a list of urls, which may contain data for multiple product families. These products can be seperated appropriately using the the parameters `productFilePrefix` (e.g., *GL_vel_mosaic_Annual* and *GL_S1bks*)and `bands` (e.g., *vx*, *vy*, and *image*) as demonstrated below.      "
   ]
  },
  {
   "cell_type": "markdown",
   "id": "allied-amber",
   "metadata": {},
   "source": [
    "## Performance Notes"
   ]
  },
  {
   "cell_type": "markdown",
   "id": "turkish-drama",
   "metadata": {},
   "source": [
    "Browsing a single remote product at time can be remarkably fast even with a home connection. But remote access does have its drawbacks. In particular, the time it takes QGIS to load scales with the number of products since the program must verify each product by reading its header information. For 300 products this can take anywhere from 45 seconds to more than 5 minutes. As a result, its not generally a good idea to include too many products in a project. For a partial mitigation of this problem, see working with layer definition files below. Peformance can be improved greatly by downloading the data, at the expense of having to store it locally. See TBD Notebook for searching and downloading data.\n",
    "\n",
    "Due to network limitations, problems can occur if too many images are selected as visible at once. As a result, the automatically generated *QGIS* project will have most of the layers unchecked at first. When network errors occur, an image will not render properly. If this occurs, uncheck excess images, then zoom in and out, which will trigger a reload and usually will re-render the image correctly (the error flag next to the product may persist even after the image loads correctly)."
   ]
  },
  {
   "cell_type": "markdown",
   "id": "difficult-viewer",
   "metadata": {},
   "source": [
    "## Setup and Start a Project"
   ]
  },
  {
   "cell_type": "markdown",
   "id": "encouraging-semester",
   "metadata": {},
   "source": [
    "The first step in setting up a QGIS project is to create an instance of `QgisGimpProjectSetup` class as follows."
   ]
  },
  {
   "cell_type": "code",
   "execution_count": 7,
   "id": "universal-norwegian",
   "metadata": {},
   "outputs": [],
   "source": [
    "myProjectSetup = gimp.QgisGimpProjectSetup(defaultBasePath=None)  # Note since this is remote search, no basePath is required"
   ]
  },
  {
   "cell_type": "markdown",
   "id": "million-irrigation",
   "metadata": {},
   "source": [
    "Examples for image (NSIDC-0723), velocity mosaics (NSIDC-0725, NSIDC-0727, NSIDC-0731), individual glacier TerraSAR-X (NSIDC-0481), and terminus postions (NSIDC-0642) are included below. If the search results from above include the products for a particular product family, they will be included. Otherwise, the QGIS project will contain the Category/productFamily with no data under it. Such 'blanks' can be avoided by selecting the desired categories as follows:"
   ]
  },
  {
   "cell_type": "code",
   "execution_count": 8,
   "id": "consolidated-unemployment",
   "metadata": {},
   "outputs": [],
   "source": [
    "includeTermini = False # True\n",
    "includeImages = True #True\n",
    "includeVelocityMosaics = True\n",
    "includeTerraSAR = False # True"
   ]
  },
  {
   "cell_type": "code",
   "execution_count": 9,
   "id": "continental-involvement",
   "metadata": {},
   "outputs": [],
   "source": [
    "QgisProjectFileName = 'qgistest'"
   ]
  },
  {
   "cell_type": "markdown",
   "id": "champion-internet",
   "metadata": {},
   "source": [
    "Further customization can be performed by modifying the examples below. Note the order of the products in the QGIS legend is determined by the order they are added in the product here (for python $\\geq$ 3.7)."
   ]
  },
  {
   "cell_type": "markdown",
   "id": "reverse-enterprise",
   "metadata": {
    "tags": []
   },
   "source": [
    "### Terminus Positions"
   ]
  },
  {
   "cell_type": "markdown",
   "id": "dominant-stand",
   "metadata": {
    "tags": []
   },
   "source": [
    "After creating `myProjectSetup`, product families need to be defined. The gimp glacier termini products are delivered as shape files (*shp*), which can be added as follows:"
   ]
  },
  {
   "cell_type": "code",
   "execution_count": 10,
   "id": "obvious-thesis",
   "metadata": {},
   "outputs": [],
   "source": [
    "if includeTermini:\n",
    "    myProjectSetup.addProductFamilies('Termini', productFilePrefix='termini', bands=['termini'], fileType='shp', byYear=False)"
   ]
  },
  {
   "cell_type": "code",
   "execution_count": null,
   "id": "alive-storm",
   "metadata": {},
   "outputs": [],
   "source": []
  },
  {
   "cell_type": "code",
   "execution_count": null,
   "id": "alien-substance",
   "metadata": {},
   "outputs": [],
   "source": []
  },
  {
   "cell_type": "markdown",
   "id": "cheap-exchange",
   "metadata": {},
   "source": [
    "### Velocity Mosaics"
   ]
  },
  {
   "cell_type": "markdown",
   "id": "rough-placement",
   "metadata": {},
   "source": [
    "The following cell will setup product families for the annual, quarterly, and monthly velocity products. Note this step adds an additional level of filtering through `bands`. If a band is selected in the search above (e.g., `vx`) it will not be included unless its explicitly included in with the bands keyword (e.g., `bands=['vx']`)."
   ]
  },
  {
   "cell_type": "code",
   "execution_count": 11,
   "id": "excess-leeds",
   "metadata": {},
   "outputs": [],
   "source": [
    "if includeVelocityMosaics: # Modify above to include or exclude this step\n",
    "    # Parameters that apply to all velocity products\n",
    "    velProperties = {'category': 'Velocity', 'productPrefix': 'Vel',\n",
    "                     'bands': ['browse', 'vv', 'vx', 'vy'], 'byYear': True, 'fileType': 'tif'}  \n",
    "    # Create a product family for each mosaic type\n",
    "    for productFamilyName in ['Annual', 'Quarterly', 'Monthly']:\n",
    "        myProjectSetup.addProductFamilies(productFamilyName, productFilePrefix=f'GL_vel_mosaic_{productFamilyName}', **velProperties)\n",
    "    # Modify monthly products\n",
    "    myProjectSetup.productFamilies['Monthly']['bands'] = ['browse', 'vv']"
   ]
  },
  {
   "cell_type": "markdown",
   "id": "renewable-briefs",
   "metadata": {},
   "source": [
    "### Individual Glacier Velocities (TSX)"
   ]
  },
  {
   "cell_type": "markdown",
   "id": "provincial-energy",
   "metadata": {},
   "source": [
    "The following cells will setup a product family for the Selected Glacier Site Velocity Maps from Insar (NSIDC-0481). In the prior example, the default display options were assumped. Those options are are:"
   ]
  },
  {
   "cell_type": "code",
   "execution_count": 12,
   "id": "round-pride",
   "metadata": {},
   "outputs": [
    {
     "name": "stdout",
     "output_type": "stream",
     "text": [
      "image: {'colorTable': None, 'minV': None, 'maxV': None, 'opacity': 1.0, 'invert': False}\n",
      "sigma0: {'colorTable': 'Grays', 'minV': -20, 'maxV': 5, 'opacity': 1.0, 'invert': False}\n",
      "gamma0: {'colorTable': 'Grays', 'minV': -20, 'maxV': 5, 'opacity': 1, 'invert': False}\n",
      "browse: {'colorTable': None, 'opacity': 0.7, 'invert': False}\n",
      "vv: {'colorTable': 'Blues', 'minV': 0, 'maxV': 1500, 'opacity': 1, 'invert': False}\n",
      "vx: {'colorTable': 'RdBu', 'minV': -1000, 'maxV': 1000, 'opacity': 1, 'invert': False}\n",
      "vy: {'colorTable': 'RdBu', 'minV': -1000, 'maxV': 1000, 'opacity': 1, 'invert': False}\n",
      "ex: {'colorTable': 'YlGn', 'minV': 0, 'maxV': 20, 'opacity': 1, 'invert': False}\n",
      "ey: {'colorTable': 'YlGn', 'minV': 0, 'maxV': 20, 'opacity': 1, 'invert': False}\n"
     ]
    }
   ],
   "source": [
    "displayOptions = myProjectSetup.defaultDisplayOptions()  # Create a copy of the default options\n",
    "for key,value in displayOptions.items():\n",
    "    print(f'{key}: {value}' )"
   ]
  },
  {
   "cell_type": "markdown",
   "id": "three-marble",
   "metadata": {},
   "source": [
    "The options in this dictionary can then be modified as follows:"
   ]
  },
  {
   "cell_type": "code",
   "execution_count": 13,
   "id": "developmental-alignment",
   "metadata": {},
   "outputs": [],
   "source": [
    "displayOptions['vv']['colorTable'] = 'Inferno'  # Change color for speed\n",
    "displayOptions['vv']['maxV'] = 4000  # Change max value at which speed is clipped"
   ]
  },
  {
   "cell_type": "markdown",
   "id": "flying-balloon",
   "metadata": {},
   "source": [
    "The customized options are then passed back along with the other options."
   ]
  },
  {
   "cell_type": "code",
   "execution_count": 14,
   "id": "covered-wilderness",
   "metadata": {},
   "outputs": [],
   "source": [
    "tsxProperties = {'category': 'TSX', 'productPrefix': 'TSX',\n",
    "                 'bands': ['vv'], 'byYear': True, 'fileType': 'tif', \n",
    "                 'displayOptions': displayOptions}  # Add the display options "
   ]
  },
  {
   "cell_type": "markdown",
   "id": "grateful-charm",
   "metadata": {},
   "source": [
    "The TSX products are different in that there are many regions as opposed to full Greenland mosaics like the products decribed above. Thus, it would be nice to organize them each under their respective 'box' (e.g., E61.10N - see Figure on Page 4 of the User Guide at https://nsidc.org/data/nsidc-0481). The names of the boxes found by the search can be recovered using `myUrls.findTSXBoxes()`, which is used to produce a product family for each box."
   ]
  },
  {
   "cell_type": "code",
   "execution_count": 15,
   "id": "starting-uganda",
   "metadata": {},
   "outputs": [],
   "source": [
    "if includeTerraSAR:\n",
    "    for productFamilyName in myUrls.findTSXBoxes():  # Note findTSXboxes can be replaced with a list of boxes (e.g., ['W72.90N',...])\n",
    "        myProjectSetup.addProductFamilies(productFamilyName, productFilePrefix=f'TSX_{productFamilyName}', **tsxProperties)"
   ]
  },
  {
   "cell_type": "markdown",
   "id": "inside-crazy",
   "metadata": {},
   "source": [
    "### Image Mosaics"
   ]
  },
  {
   "cell_type": "markdown",
   "id": "julian-blood",
   "metadata": {},
   "source": [
    "This example sets up a product family for image products (NSIDC-0723). The code can be edited to change which bands are selected (*image*, *sigma0*, and *gamma0*). As originally written, it includes only *image*  bands (any *sigma0* and *gamma0* products returned by the search will be ignored)."
   ]
  },
  {
   "cell_type": "code",
   "execution_count": 16,
   "id": "handmade-singapore",
   "metadata": {},
   "outputs": [],
   "source": [
    "productFamilyName = 'Image Mosaics'\n",
    "if includeImages:  # Modify above to include or exclude this step\n",
    "    myProjectSetup.addProductFamilies(productFamilyName, category='Imagery', productPrefix='SAR', \n",
    "                                      productFilePrefix='GL_S1bks', bands=['image'], byYear=True, fileType='.tif')"
   ]
  },
  {
   "cell_type": "markdown",
   "id": "satellite-nigeria",
   "metadata": {},
   "source": [
    "In the QGIS project, the image products will be organized under the Category **Imagery**, the Product Family **Image Mosaics** and the year of aquisition. Each product will be named **SAR-image-YYYY-mm-dd.YYYY-mm-dd**."
   ]
  },
  {
   "cell_type": "markdown",
   "id": "equipped-asbestos",
   "metadata": {},
   "source": [
    "### Adding the Data"
   ]
  },
  {
   "cell_type": "markdown",
   "id": "abstract-closing",
   "metadata": {},
   "source": [
    "In the search process above, a set of urls (links) to the data were collected and stored in `myUrls`. The subsequent steps defined how these products shoud be organized in the *QGIS* project. The next step is to link the products pointed to by the *urls* to the `myProjectSetup`. This step is performed separately for *tif* (aka cog) and shp file products as follows:"
   ]
  },
  {
   "cell_type": "code",
   "execution_count": 17,
   "id": "animal-weekend",
   "metadata": {},
   "outputs": [],
   "source": [
    "if includeImages or includeVelocityMosaics or includeTerraSAR:\n",
    "    myProjectSetup.getProductFamilies(urls=myUrls.getCogs())  # Tif products requested so add cogs\n",
    "if includeTermini:\n",
    "    myProjectSetup.getProductFamilies(urls=myUrls.getShapes())  # Add the shps if requested"
   ]
  },
  {
   "cell_type": "markdown",
   "id": "lovely-sudan",
   "metadata": {},
   "source": [
    "## Build the QGIS Project"
   ]
  },
  {
   "cell_type": "markdown",
   "id": "cross-wisconsin",
   "metadata": {},
   "source": [
    "The first step is start up the stand-alone version of QGIS core routines as: "
   ]
  },
  {
   "cell_type": "code",
   "execution_count": 18,
   "id": "metallic-anaheim",
   "metadata": {},
   "outputs": [],
   "source": [
    "qgs = qc.QgsApplication([], False)\n",
    "qgs.initQgis()"
   ]
  },
  {
   "cell_type": "markdown",
   "id": "cross-browse",
   "metadata": {},
   "source": [
    "Then create a `gimp.QgisProject` object, which will take the setup information from `myProjectSetup` to create `myProject`, which will use it to automatically generate a *QGIS* project."
   ]
  },
  {
   "cell_type": "code",
   "execution_count": 19,
   "id": "phantom-assault",
   "metadata": {},
   "outputs": [
    {
     "name": "stderr",
     "output_type": "stream",
     "text": [
      "100% (344 of 344) |######################| Elapsed Time: 0:01:05 Time:  0:01:05\n"
     ]
    }
   ],
   "source": [
    "myProject = gimp.QgisGimpProject(myProjectSetup)"
   ]
  },
  {
   "cell_type": "markdown",
   "id": "explicit-organic",
   "metadata": {},
   "source": [
    "Layer definition files allow the individual Categories or ProductFamilies to be included in pre-existing products. Or if a project takes too long to load because it has too many layers, layer definition files allow collections of layers to be added or removed as needed (in QGIS **Layers->Add From Layer Definition File**). "
   ]
  },
  {
   "cell_type": "code",
   "execution_count": 21,
   "id": "rough-protest",
   "metadata": {},
   "outputs": [],
   "source": [
    "myProject.saveLayerDefinitions(QgisProjectFileName, saveCategories=True)"
   ]
  },
  {
   "cell_type": "code",
   "execution_count": 22,
   "id": "contrary-dream",
   "metadata": {},
   "outputs": [],
   "source": [
    "myProject.saveProject(QgisProjectFileName)\n",
    "qgs.exitQgis()\n",
    "qgs.exit()"
   ]
  },
  {
   "cell_type": "markdown",
   "id": "stainless-luxury",
   "metadata": {},
   "source": [
    "If all went well, this process produced a working QGIS project. In order for it to work, authentication via a valid *NASA Earth Data* is needed to access the data at *NSIDC*. This can be done following the procedures in the **NSIDCLoginNotebook.ipynb** (https://github.com/fastice/GIMPNotebooks)."
   ]
  }
 ],
 "metadata": {
  "kernelspec": {
   "display_name": "Python 3",
   "language": "python",
   "name": "python3"
  },
  "language_info": {
   "codemirror_mode": {
    "name": "ipython",
    "version": 3
   },
   "file_extension": ".py",
   "mimetype": "text/x-python",
   "name": "python",
   "nbconvert_exporter": "python",
   "pygments_lexer": "ipython3",
   "version": "3.7.9"
  }
 },
 "nbformat": 4,
 "nbformat_minor": 5
}
