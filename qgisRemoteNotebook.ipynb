{
 "cells": [
  {
   "cell_type": "markdown",
   "id": "tough-table",
   "metadata": {
    "tags": []
   },
   "source": [
    "# Create a QGIS Project that Remotely Accesses GIMP Products at NSIDC"
   ]
  },
  {
   "cell_type": "markdown",
   "id": "toxic-forwarding",
   "metadata": {},
   "source": [
    "## Notebook Purpose"
   ]
  },
  {
   "cell_type": "markdown",
   "id": "moderate-constant",
   "metadata": {},
   "source": [
    "This noteboook allows users to select and search for GIMP products in the NSIDC archive. Once the search is complete, it will build a QGIS project file that allows browsing of the remote data at NSIDC. Once the appropriate steps for authentication have been executed (see **NSIDCLoginNotebook**), the resulting QGIS project can be opened to display products located remotely at NSIDC. The GIMP products are stored as Cloud Optimized Geotiffs (COGs), which allows relatively fast display even over slow internet connections. "
   ]
  },
  {
   "cell_type": "markdown",
   "id": "golden-intervention",
   "metadata": {},
   "source": [
    "## Setup"
   ]
  },
  {
   "cell_type": "markdown",
   "id": "answering-legislature",
   "metadata": {},
   "source": [
    "There are several python packages that need to be installed to execute this notebook. In addition it may be necessary to install several jupyter lab/notebook extensions. Please follow the procedures outlined in the **NSIDCLoginNotebook**. The instructions there assume an Anaconda (conda) install but should translate well to *pip* or other package managers. The following cell will load all of the necessary packages. If errors occur, make sure all of the packages in the **NSIDCLoginNotebook** are installed. *Note this applies to qgis even if you are running __QGIS__ from a standalone installation*. In principle, the __QGIS__ API should be accessible, but it often hard to find so its often easier to install seperately with conda."
   ]
  },
  {
   "cell_type": "code",
   "execution_count": null,
   "id": "boolean-intersection",
   "metadata": {},
   "outputs": [],
   "source": [
    "import glob\n",
    "import os\n",
    "import sys\n",
    "# This path may need altering, or the entire command may be unnecessary.\n",
    "sys.path.append(os.path.expanduser('~/anaconda3/share/qgis/python'))\n",
    "import qgis.core as qc\n",
    "import qgis.gui as qg\n",
    "from datetime import datetime\n",
    "import panel as pn\n",
    "pn.extension()"
   ]
  },
  {
   "cell_type": "markdown",
   "id": "equipped-assault",
   "metadata": {},
   "source": [
    "## Other Code"
   ]
  },
  {
   "cell_type": "markdown",
   "id": "existing-boutique",
   "metadata": {},
   "source": [
    "See **NSIDCLoginNotebook** for more detail on installing the *GIMP* respository (https://github.com/fastice/gimpfunc.git). If the location of the repository is not in your python path, edit the `sys.path.append` argument below to point to the location where the code exists."
   ]
  },
  {
   "cell_type": "code",
   "execution_count": null,
   "id": "olive-danish",
   "metadata": {},
   "outputs": [],
   "source": [
    "#!git clone https:.... desiredpath/gimpfunc\n",
    "#sys.path.append('desiredpath/gimpfunc')\n",
    "import gimpfunc as gimp"
   ]
  },
  {
   "cell_type": "markdown",
   "id": "adverse-estate",
   "metadata": {},
   "source": [
    "## Search for Data"
   ]
  },
  {
   "cell_type": "markdown",
   "id": "horizontal-actress",
   "metadata": {},
   "source": [
    "Running the cell below will pull up a panel that allows search for products at NISDC. Products can be filter by date range and subsets of some products can be specified (e.g., velcoity or velocity with errors). Selecting a new product, will append the result to the prior search. Select a product family by pressing the appropriate button (e.g., *NSIDC-0723*), set the filter paramers and date range (default is all dates). Then press *GetData* to execute the search. The search results will be pre-pended to the result from any prior search. To start over, press *ClearSearch* to remove the entire search history. Once the search is complete, the results are saved in `myUrls`, which is used in the steps below. "
   ]
  },
  {
   "cell_type": "code",
   "execution_count": null,
   "id": "adopted-candy",
   "metadata": {},
   "outputs": [],
   "source": [
    "myUrls = gimp.cmrUrls()\n",
    "myUrls.view()"
   ]
  },
  {
   "cell_type": "markdown",
   "id": "incorporated-crisis",
   "metadata": {},
   "source": [
    "## Product Hierarchy for QGIS"
   ]
  },
  {
   "cell_type": "markdown",
   "id": "colored-wisdom",
   "metadata": {},
   "source": [
    "Products are saved in a QGIS project with the following hierarchy.\n",
    "* **Category** (optional, e.g., Velocity or Images) \n",
    "    * **Product Family1** (e.g., annualVelocity, NSIDC0725)\n",
    "        * **Year** (optional)\n",
    "            * **ProductPrefix-YYYY-mm-dd.YYYY-mm-dd (e.g., Vel-2020-01-01.Vel-2020-01-06)**\n",
    "                * **band1** (e.g., browse, vx, vy)\n",
    "                * **band2**\n",
    "                * **...**\n",
    "    * **Product Family 2**\n",
    "        * **ProductPrefix-band-YYYY-mm-dd.YYY-mm-dd** (example with only one band, e.g., sigma0)\n",
    "        * **ProductPrefix-band-YYYY-mm-dd.YYY-mm-dd**\n",
    "        **...**\n",
    "        \n",
    "A `productFamily` represents collection of products of the same type such as annual velocity (NSIDC-0725) mosaics or SAR image mosaics (NSIDC-0723) that are grouped together in QGIS project. Different product families can be established for the same produce line. For example, for the SAR mosaics the **image** products could saved under a product family called images and $\\gamma_o$ products could be saved under **gamma0**. Several product families may be grouped under a `Category` such as **Velocity** or **Images**. \n",
    "\n",
    "Each product can have a single (e.g,. *v*) or multiple bands (*v*, *vx*, and *vy*). For a single-band product family, the results are saved as `ProductPrefix`-`band`**-YYYY-mm-dd.YYY-mm-dd**. If the product has only a single date, the second date string is ommitted. Multi-band products are grouped together with the name `ProductPrefix`**-YYYY-mm-dd.YYYY-mm-dd**. Each **band** is then saved under its band name (e.g., *vx* and *vy*).\n",
    "\n",
    "The `Category`, `productFamily`, and `productPrefix` are completely user selectable. The `band` names are those used in the product names, but the user can choose which bands are selected.\n",
    "\n",
    "By default the products under a product family are organized by year. This feature can be turned off with `byYear=False`. \n",
    "\n",
    "The products for each family should all be of the same *type*. Currently supported types are *tif* and *shp*.\n",
    "\n",
    "An archive search as carried out above returns a list of urls, which may contain data for multiple product families. These products can be seperated appropriately using the the parameters `productFilePrefix` (e.g., *GL_vel_mosaic_Annual* and *GL_S1bks*)and `bands` (e.g., *vx*, *vy*, and *image*) as demonstrated below.      "
   ]
  },
  {
   "cell_type": "markdown",
   "id": "prime-cause",
   "metadata": {},
   "source": [
    "## Performance Notes"
   ]
  },
  {
   "cell_type": "markdown",
   "id": "dated-performer",
   "metadata": {},
   "source": [
    "Browsing a single remote product at time can be remarkably fast even with a home connection. But remote access does have its drawbacks. In particular, the time it takes QGIS to load scales with the number of products since the program must verify each product by reading its header information. For 300 products this can take anywhere from 45 seconds to more than 5 minutes. As a result, its not generally a good idea to include too many products in a project. For a partial mitigation of this problem, see working with layer definition files below. Peformance can be improved greatly by downloading the data, at the expense of having to store it locally. See TBD Notebook for searching and downloading data.\n",
    "\n",
    "Due to network limitations, problems can occur if too many images are selected as visible at once. As a result, the automatically generated *QGIS* project will have most of the layers unchecked at first. When network errors occur, an image will not render properly. If this occurs, uncheck excess images, then zoom in and out, which will trigger a reload and usually will re-render the image correctly (the error flag next to the product may persist even after the image loads correctly)."
   ]
  },
  {
   "cell_type": "markdown",
   "id": "spatial-english",
   "metadata": {},
   "source": [
    "## Setup and Start a Project"
   ]
  },
  {
   "cell_type": "markdown",
   "id": "formed-signal",
   "metadata": {},
   "source": [
    "The first step in setting up a QGIS project is to create an instance of `QgisGimpProjectSetup` class as follows."
   ]
  },
  {
   "cell_type": "code",
   "execution_count": null,
   "id": "genuine-member",
   "metadata": {},
   "outputs": [],
   "source": [
    "myProjectSetup = gimp.QgisGimpProjectSetup(defaultBasePath=None)  # Note since this is remote search, no basePath is required"
   ]
  },
  {
   "cell_type": "markdown",
   "id": "inappropriate-section",
   "metadata": {},
   "source": [
    "Examples for image (NSIDC-0723), velocity mosaics (NSIDC-0725, NSIDC-0727, NSIDC-0731), individual glacier TerraSAR-X (NSIDC-0481), and terminus postions (NSIDC-0642) are included below. If the search results from above include the products for a particular product family, they will be included. Otherwise, the QGIS project will contain the Category/productFamily with no data under it. Such 'blanks' can be avoided by selecting the desired categories as follows:"
   ]
  },
  {
   "cell_type": "code",
   "execution_count": null,
   "id": "ready-seeking",
   "metadata": {},
   "outputs": [],
   "source": [
    "includeTermini = False # True\n",
    "includeImages = True #True\n",
    "includeVelocityMosaics = True\n",
    "includeTerraSAR = False # True"
   ]
  },
  {
   "cell_type": "code",
   "execution_count": null,
   "id": "lightweight-conviction",
   "metadata": {},
   "outputs": [],
   "source": [
    "QgisProjectFileName = 'qgistest'"
   ]
  },
  {
   "cell_type": "markdown",
   "id": "internal-french",
   "metadata": {},
   "source": [
    "Further customization can be performed by modifying the examples below. Note the order of the products in the QGIS legend is determined by the order they are added in the product here (for python $\\geq$ 3.7)."
   ]
  },
  {
   "cell_type": "markdown",
   "id": "norwegian-slide",
   "metadata": {
    "tags": []
   },
   "source": [
    "### Terminus Positions"
   ]
  },
  {
   "cell_type": "markdown",
   "id": "isolated-leather",
   "metadata": {
    "tags": []
   },
   "source": [
    "After creating `myProjectSetup`, product families need to be defined. The gimp glacier termini products are delivered as shape files (*shp*), which can be added as follows:"
   ]
  },
  {
   "cell_type": "code",
   "execution_count": null,
   "id": "small-latino",
   "metadata": {},
   "outputs": [],
   "source": [
    "if includeTermini:\n",
    "    myProjectSetup.addProductFamilies('Termini', productFilePrefix='termini', bands=['termini'], fileType='shp', byYear=False)"
   ]
  },
  {
   "cell_type": "markdown",
   "id": "eligible-screw",
   "metadata": {},
   "source": [
    "### Velocity Mosaics"
   ]
  },
  {
   "cell_type": "markdown",
   "id": "steady-development",
   "metadata": {},
   "source": [
    "The following cell will setup product families for the annual, quarterly, and monthly velocity products. Note this step adds an additional level of filtering through `bands`. If a band is selected in the search above (e.g., `vx`) it will not be included unless its explicitly included in with the bands keyword (e.g., `bands=['vx']`)."
   ]
  },
  {
   "cell_type": "code",
   "execution_count": null,
   "id": "environmental-importance",
   "metadata": {},
   "outputs": [],
   "source": [
    "if includeVelocityMosaics: # Modify above to include or exclude this step\n",
    "    # Parameters that apply to all velocity products\n",
    "    velProperties = {'category': 'Velocity', 'productPrefix': 'Vel',\n",
    "                     'bands': ['browse', 'vv', 'vx', 'vy'], 'byYear': True, 'fileType': 'tif'}  \n",
    "    # Create a product family for each mosaic type\n",
    "    for productFamilyName in ['Annual', 'Quarterly', 'Monthly']:\n",
    "        myProjectSetup.addProductFamilies(productFamilyName, productFilePrefix=f'GL_vel_mosaic_{productFamilyName}', **velProperties)\n",
    "    # Modify monthly products\n",
    "    myProjectSetup.productFamilies['Monthly']['bands'] = ['browse', 'vv']"
   ]
  },
  {
   "cell_type": "markdown",
   "id": "prime-mayor",
   "metadata": {},
   "source": [
    "### Individual Glacier Velocities (TSX)"
   ]
  },
  {
   "cell_type": "markdown",
   "id": "approximate-academy",
   "metadata": {},
   "source": [
    "The following cells will setup a product family for the Selected Glacier Site Velocity Maps from Insar (NSIDC-0481). In the prior example, the default display options were assumped. Those options are are:"
   ]
  },
  {
   "cell_type": "code",
   "execution_count": null,
   "id": "incorporate-huntington",
   "metadata": {},
   "outputs": [],
   "source": [
    "displayOptions = myProjectSetup.defaultDisplayOptions()  # Create a copy of the default options\n",
    "for key,value in displayOptions.items():\n",
    "    print(f'{key}: {value}' )"
   ]
  },
  {
   "cell_type": "markdown",
   "id": "casual-grant",
   "metadata": {},
   "source": [
    "The options in this dictionary can then be modified as follows:"
   ]
  },
  {
   "cell_type": "code",
   "execution_count": null,
   "id": "amazing-verification",
   "metadata": {},
   "outputs": [],
   "source": [
    "displayOptions['vv']['colorTable'] = 'Inferno'  # Change color for speed\n",
    "displayOptions['vv']['maxV'] = 4000  # Change max value at which speed is clipped"
   ]
  },
  {
   "cell_type": "markdown",
   "id": "young-significance",
   "metadata": {},
   "source": [
    "The customized options are then passed back along with the other options."
   ]
  },
  {
   "cell_type": "code",
   "execution_count": null,
   "id": "devoted-invasion",
   "metadata": {},
   "outputs": [],
   "source": [
    "tsxProperties = {'category': 'TSX', 'productPrefix': 'TSX',\n",
    "                 'bands': ['vv'], 'byYear': True, 'fileType': 'tif', \n",
    "                 'displayOptions': displayOptions}  # Add the display options "
   ]
  },
  {
   "cell_type": "markdown",
   "id": "stupid-imperial",
   "metadata": {},
   "source": [
    "The TSX products are different in that there are many regions as opposed to full Greenland mosaics like the products decribed above. Thus, it would be nice to organize them each under their respective 'box' (e.g., E61.10N - see Figure on Page 4 of the User Guide at https://nsidc.org/data/nsidc-0481). The names of the boxes found by the search can be recovered using `myUrls.findTSXBoxes()`, which is used to produce a product family for each box."
   ]
  },
  {
   "cell_type": "code",
   "execution_count": null,
   "id": "homeless-vietnamese",
   "metadata": {},
   "outputs": [],
   "source": [
    "if includeTerraSAR:\n",
    "    for productFamilyName in myUrls.findTSXBoxes():  # Note findTSXboxes can be replaced with a list of boxes (e.g., ['W72.90N',...])\n",
    "        myProjectSetup.addProductFamilies(productFamilyName, productFilePrefix=f'TSX_{productFamilyName}', **tsxProperties)"
   ]
  },
  {
   "cell_type": "markdown",
   "id": "forced-branch",
   "metadata": {},
   "source": [
    "### Image Mosaics"
   ]
  },
  {
   "cell_type": "markdown",
   "id": "considered-march",
   "metadata": {},
   "source": [
    "This example sets up a product family for image products (NSIDC-0723). The code can be edited to change which bands are selected (*image*, *sigma0*, and *gamma0*). As originally written, it includes only *image*  bands (any *sigma0* and *gamma0* products returned by the search will be ignored)."
   ]
  },
  {
   "cell_type": "code",
   "execution_count": null,
   "id": "overhead-beginning",
   "metadata": {},
   "outputs": [],
   "source": [
    "productFamilyName = 'Image Mosaics'\n",
    "if includeImages:  # Modify above to include or exclude this step\n",
    "    myProjectSetup.addProductFamilies(productFamilyName, category='Imagery', productPrefix='SAR', \n",
    "                                      productFilePrefix='GL_S1bks', bands=['image'], byYear=True, fileType='.tif')"
   ]
  },
  {
   "cell_type": "markdown",
   "id": "billion-experiment",
   "metadata": {},
   "source": [
    "In the QGIS project, the image products will be organized under the Category **Imagery**, the Product Family **Image Mosaics** and the year of aquisition. Each product will be named **SAR-image-YYYY-mm-dd.YYYY-mm-dd**."
   ]
  },
  {
   "cell_type": "markdown",
   "id": "warming-saver",
   "metadata": {},
   "source": [
    "### Adding the Data"
   ]
  },
  {
   "cell_type": "markdown",
   "id": "latter-exhaust",
   "metadata": {},
   "source": [
    "In the search process above, a set of urls (links) to the data were collected and stored in `myUrls`. The subsequent steps defined how these products shoud be organized in the *QGIS* project. The next step is to link the products pointed to by the *urls* to the `myProjectSetup`. This step is performed separately for *tif* (aka cog) and shp file products as follows:"
   ]
  },
  {
   "cell_type": "code",
   "execution_count": null,
   "id": "artificial-yahoo",
   "metadata": {},
   "outputs": [],
   "source": [
    "if includeImages or includeVelocityMosaics or includeTerraSAR:\n",
    "    myProjectSetup.getProductFamilies(urls=myUrls.getCogs())  # Tif products requested so add cogs\n",
    "if includeTermini:\n",
    "    myProjectSetup.getProductFamilies(urls=myUrls.getShapes())  # Add the shps if requested"
   ]
  },
  {
   "cell_type": "markdown",
   "id": "moderate-means",
   "metadata": {},
   "source": [
    "## Build the QGIS Project"
   ]
  },
  {
   "cell_type": "markdown",
   "id": "junior-fantasy",
   "metadata": {},
   "source": [
    "The first step is start up the stand-alone version of QGIS core routines as: "
   ]
  },
  {
   "cell_type": "code",
   "execution_count": null,
   "id": "relative-combine",
   "metadata": {},
   "outputs": [],
   "source": [
    "qgs = qc.QgsApplication([], False)\n",
    "qgs.initQgis()"
   ]
  },
  {
   "cell_type": "markdown",
   "id": "flying-culture",
   "metadata": {},
   "source": [
    "Then create a `gimp.QgisProject` object, which will take the setup information from `myProjectSetup` to create `myProject`, which will use it to automatically generate a *QGIS* project."
   ]
  },
  {
   "cell_type": "code",
   "execution_count": null,
   "id": "partial-faculty",
   "metadata": {},
   "outputs": [],
   "source": [
    "myProject = gimp.QgisGimpProject(myProjectSetup)"
   ]
  },
  {
   "cell_type": "markdown",
   "id": "sublime-korea",
   "metadata": {},
   "source": [
    "Layer definition files allow the individual Categories or ProductFamilies to be included in pre-existing products. Or if a project takes too long to load because it has too many layers, layer definition files allow collections of layers to be added or removed as needed (in QGIS **Layers->Add From Layer Definition File**). "
   ]
  },
  {
   "cell_type": "code",
   "execution_count": null,
   "id": "inappropriate-female",
   "metadata": {},
   "outputs": [],
   "source": [
    "myProject.saveLayerDefinitions(QgisProjectFileName, saveCategories=True)"
   ]
  },
  {
   "cell_type": "code",
   "execution_count": null,
   "id": "sought-billion",
   "metadata": {},
   "outputs": [],
   "source": [
    "myProject.saveProject(QgisProjectFileName)\n",
    "qgs.exitQgis()\n",
    "qgs.exit()"
   ]
  },
  {
   "cell_type": "markdown",
   "id": "antique-optimum",
   "metadata": {},
   "source": [
    "If all went well, this process produced a working QGIS project. In order for it to work, authentication via a valid *NASA Earth Data* is needed to access the data at *NSIDC*. This can be done following the procedures in the **NSIDCLoginNotebook.ipynb** (https://github.com/fastice/GIMPNotebooks)."
   ]
  }
 ],
 "metadata": {
  "kernelspec": {
   "display_name": "Python 3",
   "language": "python",
   "name": "python3"
  },
  "language_info": {
   "codemirror_mode": {
    "name": "ipython",
    "version": 3
   },
   "file_extension": ".py",
   "mimetype": "text/x-python",
   "name": "python",
   "nbconvert_exporter": "python",
   "pygments_lexer": "ipython3",
   "version": "3.7.9"
  }
 },
 "nbformat": 4,
 "nbformat_minor": 5
}
